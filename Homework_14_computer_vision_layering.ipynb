{
 "cells": [
  {
   "cell_type": "code",
   "execution_count": 6,
   "id": "2e32a905-41eb-4797-89d7-410427147184",
   "metadata": {},
   "outputs": [],
   "source": [
    "from PIL import Image\n",
    "\n",
    "def overlay_with_transparency(base_path, overlay_path, alpha=128): # alpha 0 - максимальная прозрачность, 255 - непрозрачность\n",
    "    # Загружаем изображения и преобразуем их в rgba-представление\n",
    "    base = Image.open(base_path).convert('RGBA')     # основа\n",
    "    overlay = Image.open(overlay_path).convert('RGBA')  # накладываемое\n",
    "\n",
    "    # Приводим к одинаковому размеру\n",
    "    overlay = overlay.resize(base.size)\n",
    "\n",
    "    # Изменяем прозрачность наложенного изображения\n",
    "    r, g, b, a = overlay.split()\n",
    "    a = a.point(lambda i: alpha)  # устанавливаем альфа-канал\n",
    "    overlay = Image.merge('RGBA', (r, g, b, a))\n",
    "\n",
    "    # Накладываем изображения\n",
    "    result = Image.alpha_composite(base, overlay)\n",
    "\n",
    "    # Сохраняем результат\n",
    "    result.save('./additional/layering_result.png')"
   ]
  },
  {
   "cell_type": "code",
   "execution_count": 7,
   "id": "4240ab24-1b02-41e3-8fd4-a7cf157c7c55",
   "metadata": {},
   "outputs": [],
   "source": [
    "overlay_with_transparency('./additional/planet.jpg', './additional/ball.jpg', alpha=100)"
   ]
  }
 ],
 "metadata": {
  "kernelspec": {
   "display_name": "Python 3 (ipykernel)",
   "language": "python",
   "name": "python3"
  },
  "language_info": {
   "codemirror_mode": {
    "name": "ipython",
    "version": 3
   },
   "file_extension": ".py",
   "mimetype": "text/x-python",
   "name": "python",
   "nbconvert_exporter": "python",
   "pygments_lexer": "ipython3",
   "version": "3.13.5"
  }
 },
 "nbformat": 4,
 "nbformat_minor": 5
}
