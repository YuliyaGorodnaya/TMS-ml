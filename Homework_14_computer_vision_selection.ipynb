{
 "cells": [
  {
   "cell_type": "code",
   "execution_count": 1,
   "id": "24642e7e-eedd-47f3-a4a0-0fac4079422a",
   "metadata": {},
   "outputs": [],
   "source": [
    "from PIL import Image # для работы с изображениями\n",
    "import numpy as np # для массивов пикселей\n",
    "from collections import deque # для реализация BFS (поиска в ширину)"
   ]
  },
  {
   "cell_type": "code",
   "execution_count": 2,
   "id": "99934e5b-96b1-4873-9326-2e925d4ed621",
   "metadata": {},
   "outputs": [],
   "source": [
    "def load_image(path):\n",
    "    img = Image.open(path).convert('L')  # переводим всё изображение в оттенки серого (работаем с яркостью, а не с цветами)\n",
    "    return np.array(img) # получаем наше изображение в виде массива пикселей"
   ]
  },
  {
   "cell_type": "code",
   "execution_count": 12,
   "id": "8c075d5b-2c58-4bf9-b9e1-8e079867f1dc",
   "metadata": {},
   "outputs": [],
   "source": [
    "def threshold_image(gray, thresh=200): # задаём порог для яркости в 128\n",
    "    return (gray > thresh).astype(np.uint8) # делим всё изображение на тёмные и светлые пиксели, сравнивая с заданным порогом"
   ]
  },
  {
   "cell_type": "code",
   "execution_count": 4,
   "id": "0cafdbbf-fbc6-4957-92f3-29956e7e28d0",
   "metadata": {},
   "outputs": [],
   "source": [
    "def find_connected_components(binary):\n",
    "    h, w = binary.shape # высота и ширина изображения\n",
    "    visited = np.zeros_like(binary, dtype=bool) # здесь храним просмотренные пиксели\n",
    "    components = [] # здесь храним объекты\n",
    "\n",
    "    def bfs(x, y): # используем метод обхода в ширину для выделения объектов на изображении\n",
    "        queue = deque([(x, y)])\n",
    "        component = []\n",
    "        visited[x, y] = True\n",
    "        while queue:\n",
    "            cx, cy = queue.popleft()\n",
    "            component.append((cx, cy))\n",
    "            for dx in [-1, 0, 1]:\n",
    "                for dy in [-1, 0, 1]:\n",
    "                    nx, ny = cx + dx, cy + dy\n",
    "                    if 0 <= nx < h and 0 <= ny < w and not visited[nx, ny] and binary[nx, ny]:\n",
    "                        visited[nx, ny] = True\n",
    "                        queue.append((nx, ny))\n",
    "        return component\n",
    "\n",
    "    for i in range(h): # обход всех пикселей\n",
    "        for j in range(w):\n",
    "            if binary[i, j] and not visited[i, j]:\n",
    "                comp = bfs(i, j)\n",
    "                components.append(comp)\n",
    "    return components"
   ]
  },
  {
   "cell_type": "code",
   "execution_count": 5,
   "id": "a5be7cfc-e9b3-4068-b369-ec86408740a9",
   "metadata": {},
   "outputs": [],
   "source": [
    "def select_most_prominent(components, gray): # выбираем самый выделяющийся из найденных объектов (самый большой и яркий)\n",
    "    def prominence(comp):\n",
    "        values = [gray[x, y] for x, y in comp]\n",
    "        return len(comp) * (np.mean(values) - np.mean(gray))  # area × contrast\n",
    "    return max(components, key=prominence)"
   ]
  },
  {
   "cell_type": "code",
   "execution_count": 6,
   "id": "c10bc40d-5f6e-41ae-b48d-c1a80ef1cb52",
   "metadata": {},
   "outputs": [],
   "source": [
    "def isolate_component(gray, component): # превращаем все, кроме выбранного объекта, в чёрные точки\n",
    "    mask = np.zeros_like(gray)\n",
    "    for x, y in component:\n",
    "        mask[x, y] = gray[x, y]\n",
    "    return mask"
   ]
  },
  {
   "cell_type": "code",
   "execution_count": 7,
   "id": "42c0c4f7-680f-466b-9033-cb3d7cd8b3db",
   "metadata": {},
   "outputs": [],
   "source": [
    "def save_image(array, path): # преобразуем массив обратно в изображение и сохраняем\n",
    "    img = Image.fromarray(array.astype(np.uint8))\n",
    "    img.save(path)"
   ]
  },
  {
   "cell_type": "code",
   "execution_count": 17,
   "id": "60066817-277f-44f5-b81f-0eda634a231e",
   "metadata": {},
   "outputs": [],
   "source": [
    "gray = load_image('./additional/planets.jpg')\n",
    "binary = threshold_image(gray, thresh=128)\n",
    "components = find_connected_components(binary)\n",
    "main_object = select_most_prominent(components, gray)\n",
    "result = isolate_component(gray, main_object)\n",
    "save_image(result, './additional/planets_output.jpg')"
   ]
  }
 ],
 "metadata": {
  "kernelspec": {
   "display_name": "Python 3 (ipykernel)",
   "language": "python",
   "name": "python3"
  },
  "language_info": {
   "codemirror_mode": {
    "name": "ipython",
    "version": 3
   },
   "file_extension": ".py",
   "mimetype": "text/x-python",
   "name": "python",
   "nbconvert_exporter": "python",
   "pygments_lexer": "ipython3",
   "version": "3.13.5"
  }
 },
 "nbformat": 4,
 "nbformat_minor": 5
}
