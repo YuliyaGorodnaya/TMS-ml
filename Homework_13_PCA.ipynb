{
 "cells": [
  {
   "cell_type": "code",
   "execution_count": 1,
   "metadata": {
    "executionInfo": {
     "elapsed": 27,
     "status": "ok",
     "timestamp": 1760974938402,
     "user": {
      "displayName": "Юлия Гор.",
      "userId": "08838257762277085118"
     },
     "user_tz": -180
    },
    "id": "0ExTVSiYTjU0"
   },
   "outputs": [],
   "source": [
    "import pandas as pd\n",
    "\n",
    "paris_df = pd.read_csv(\"./additional/ParisHousing.csv\")\n",
    "boston_df = pd.read_csv(\"./additional/BostonHousingDataset.csv\")"
   ]
  },
  {
   "cell_type": "code",
   "execution_count": 2,
   "metadata": {
    "colab": {
     "base_uri": "https://localhost:8080/"
    },
    "executionInfo": {
     "elapsed": 16,
     "status": "ok",
     "timestamp": 1760958531274,
     "user": {
      "displayName": "Юлия Гор.",
      "userId": "08838257762277085118"
     },
     "user_tz": -180
    },
    "id": "KuHzO47rTmLr",
    "outputId": "a0400b5b-e869-46e2-cadd-cc451843f33d"
   },
   "outputs": [
    {
     "name": "stdout",
     "output_type": "stream",
     "text": [
      "<class 'pandas.core.frame.DataFrame'>\n",
      "RangeIndex: 10000 entries, 0 to 9999\n",
      "Data columns (total 17 columns):\n",
      " #   Column             Non-Null Count  Dtype  \n",
      "---  ------             --------------  -----  \n",
      " 0   squareMeters       10000 non-null  int64  \n",
      " 1   numberOfRooms      10000 non-null  int64  \n",
      " 2   hasYard            10000 non-null  int64  \n",
      " 3   hasPool            10000 non-null  int64  \n",
      " 4   floors             10000 non-null  int64  \n",
      " 5   cityCode           10000 non-null  int64  \n",
      " 6   cityPartRange      10000 non-null  int64  \n",
      " 7   numPrevOwners      10000 non-null  int64  \n",
      " 8   made               10000 non-null  int64  \n",
      " 9   isNewBuilt         10000 non-null  int64  \n",
      " 10  hasStormProtector  10000 non-null  int64  \n",
      " 11  basement           10000 non-null  int64  \n",
      " 12  attic              10000 non-null  int64  \n",
      " 13  garage             10000 non-null  int64  \n",
      " 14  hasStorageRoom     10000 non-null  int64  \n",
      " 15  hasGuestRoom       10000 non-null  int64  \n",
      " 16  price              10000 non-null  float64\n",
      "dtypes: float64(1), int64(16)\n",
      "memory usage: 1.3 MB\n"
     ]
    }
   ],
   "source": [
    "paris_df.info()"
   ]
  },
  {
   "cell_type": "code",
   "execution_count": 3,
   "metadata": {
    "colab": {
     "base_uri": "https://localhost:8080/"
    },
    "executionInfo": {
     "elapsed": 25,
     "status": "ok",
     "timestamp": 1760958552376,
     "user": {
      "displayName": "Юлия Гор.",
      "userId": "08838257762277085118"
     },
     "user_tz": -180
    },
    "id": "_rGcfIyRTueD",
    "outputId": "6f57d2ae-b76f-4e13-888c-b698748ef92b"
   },
   "outputs": [
    {
     "name": "stdout",
     "output_type": "stream",
     "text": [
      "<class 'pandas.core.frame.DataFrame'>\n",
      "RangeIndex: 506 entries, 0 to 505\n",
      "Data columns (total 14 columns):\n",
      " #   Column   Non-Null Count  Dtype  \n",
      "---  ------   --------------  -----  \n",
      " 0   crim     506 non-null    float64\n",
      " 1   zn       506 non-null    float64\n",
      " 2   indus    506 non-null    float64\n",
      " 3   chas     506 non-null    int64  \n",
      " 4   nox      506 non-null    float64\n",
      " 5   rm       501 non-null    float64\n",
      " 6   age      506 non-null    float64\n",
      " 7   dis      506 non-null    float64\n",
      " 8   rad      506 non-null    int64  \n",
      " 9   tax      506 non-null    int64  \n",
      " 10  ptratio  506 non-null    float64\n",
      " 11  b        506 non-null    float64\n",
      " 12  lstat    506 non-null    float64\n",
      " 13  medv     506 non-null    float64\n",
      "dtypes: float64(11), int64(3)\n",
      "memory usage: 55.5 KB\n"
     ]
    }
   ],
   "source": [
    "boston_df.info()"
   ]
  },
  {
   "cell_type": "code",
   "execution_count": 4,
   "metadata": {
    "colab": {
     "base_uri": "https://localhost:8080/"
    },
    "executionInfo": {
     "elapsed": 13,
     "status": "ok",
     "timestamp": 1760958636916,
     "user": {
      "displayName": "Юлия Гор.",
      "userId": "08838257762277085118"
     },
     "user_tz": -180
    },
    "id": "iGlmQcIcUC2T",
    "outputId": "d8ba94a6-93e9-4942-9d04-ceb06ed85cef"
   },
   "outputs": [
    {
     "name": "stderr",
     "output_type": "stream",
     "text": [
      "C:\\Users\\gorod\\AppData\\Local\\Temp\\ipykernel_13680\\2269254709.py:1: FutureWarning: A value is trying to be set on a copy of a DataFrame or Series through chained assignment using an inplace method.\n",
      "The behavior will change in pandas 3.0. This inplace method will never work because the intermediate object on which we are setting values always behaves as a copy.\n",
      "\n",
      "For example, when doing 'df[col].method(value, inplace=True)', try using 'df.method({col: value}, inplace=True)' or df[col] = df[col].method(value) instead, to perform the operation inplace on the original object.\n",
      "\n",
      "\n",
      "  boston_df['rm'].fillna(boston_df['rm'].median(), inplace=True)\n"
     ]
    }
   ],
   "source": [
    "boston_df['rm'].fillna(boston_df['rm'].median(), inplace=True)"
   ]
  },
  {
   "cell_type": "code",
   "execution_count": 5,
   "metadata": {
    "id": "o9K7XCiyUdsL"
   },
   "outputs": [],
   "source": [
    "import pandas as pd\n",
    "import numpy as np\n",
    "from sklearn.model_selection import train_test_split\n",
    "from sklearn.preprocessing import StandardScaler\n",
    "from tensorflow.keras.models import Sequential\n",
    "from tensorflow.keras.layers import Dense\n",
    "from sklearn.metrics import mean_squared_error, r2_score"
   ]
  },
  {
   "cell_type": "code",
   "execution_count": 6,
   "metadata": {
    "id": "U6j9OhJsUeuD"
   },
   "outputs": [],
   "source": [
    "# Разделим на признаки и целевую переменную (бостон)\n",
    "X = boston_df.drop('medv', axis=1)\n",
    "y = boston_df['medv']\n",
    "\n",
    "# Нормализация\n",
    "scaler = StandardScaler()\n",
    "X_scaled = scaler.fit_transform(X)\n",
    "\n",
    "# Разделим на обучающую и тестовую выборки\n",
    "X_train, X_test, y_train, y_test = train_test_split(X_scaled, y, test_size=0.2, random_state=42)\n"
   ]
  },
  {
   "cell_type": "code",
   "execution_count": 7,
   "metadata": {
    "colab": {
     "base_uri": "https://localhost:8080/"
    },
    "executionInfo": {
     "elapsed": 109,
     "status": "ok",
     "timestamp": 1760958799287,
     "user": {
      "displayName": "Юлия Гор.",
      "userId": "08838257762277085118"
     },
     "user_tz": -180
    },
    "id": "pP9G67BbUrRD",
    "outputId": "7800a0e6-2355-48f7-eef5-32aca2dbdd2a"
   },
   "outputs": [
    {
     "name": "stderr",
     "output_type": "stream",
     "text": [
      "C:\\ProgramData\\anaconda3\\Lib\\site-packages\\keras\\src\\layers\\core\\dense.py:92: UserWarning: Do not pass an `input_shape`/`input_dim` argument to a layer. When using Sequential models, prefer using an `Input(shape)` object as the first layer in the model instead.\n",
      "  super().__init__(activity_regularizer=activity_regularizer, **kwargs)\n"
     ]
    }
   ],
   "source": [
    "model = Sequential([\n",
    "    Dense(64, activation='relu', input_shape=(X_train.shape[1],)),\n",
    "    Dense(32, activation='relu'),\n",
    "    Dense(1)  # Выходной слой для регрессии\n",
    "])"
   ]
  },
  {
   "cell_type": "code",
   "execution_count": 8,
   "metadata": {
    "id": "koAtjWPxUwuD"
   },
   "outputs": [],
   "source": [
    "model.compile(optimizer='adam', loss='mse')\n",
    "history = model.fit(X_train, y_train, epochs=100, batch_size=16, validation_split=0.2, verbose=0)"
   ]
  },
  {
   "cell_type": "code",
   "execution_count": 9,
   "metadata": {
    "colab": {
     "base_uri": "https://localhost:8080/"
    },
    "executionInfo": {
     "elapsed": 170,
     "status": "ok",
     "timestamp": 1760958846667,
     "user": {
      "displayName": "Юлия Гор.",
      "userId": "08838257762277085118"
     },
     "user_tz": -180
    },
    "id": "zyFJj-HrU4O7",
    "outputId": "f00812d1-9b78-450b-839b-b3079ea35a19"
   },
   "outputs": [
    {
     "name": "stdout",
     "output_type": "stream",
     "text": [
      "\u001b[1m4/4\u001b[0m \u001b[32m━━━━━━━━━━━━━━━━━━━━\u001b[0m\u001b[37m\u001b[0m \u001b[1m0s\u001b[0m 35ms/step\n",
      "MSE: 12.49\n",
      "R²: 0.83\n"
     ]
    }
   ],
   "source": [
    "# Предсказания\n",
    "y_pred = model.predict(X_test)\n",
    "\n",
    "# Метрики\n",
    "mse = mean_squared_error(y_test, y_pred)\n",
    "r2 = r2_score(y_test, y_pred)\n",
    "\n",
    "print(f'MSE: {mse:.2f}')\n",
    "print(f'R²: {r2:.2f}')"
   ]
  },
  {
   "cell_type": "code",
   "execution_count": 10,
   "metadata": {
    "colab": {
     "base_uri": "https://localhost:8080/"
    },
    "executionInfo": {
     "elapsed": 106066,
     "status": "ok",
     "timestamp": 1760959700425,
     "user": {
      "displayName": "Юлия Гор.",
      "userId": "08838257762277085118"
     },
     "user_tz": -180
    },
    "id": "Nn3E6gORXpgz",
    "outputId": "ab459d6d-c168-48ca-eda0-0bf617acca25"
   },
   "outputs": [
    {
     "name": "stderr",
     "output_type": "stream",
     "text": [
      "C:\\ProgramData\\anaconda3\\Lib\\site-packages\\keras\\src\\layers\\core\\dense.py:92: UserWarning: Do not pass an `input_shape`/`input_dim` argument to a layer. When using Sequential models, prefer using an `Input(shape)` object as the first layer in the model instead.\n",
      "  super().__init__(activity_regularizer=activity_regularizer, **kwargs)\n"
     ]
    },
    {
     "name": "stdout",
     "output_type": "stream",
     "text": [
      "\u001b[1m63/63\u001b[0m \u001b[32m━━━━━━━━━━━━━━━━━━━━\u001b[0m\u001b[37m\u001b[0m \u001b[1m0s\u001b[0m 3ms/step \n",
      "Paris MSE: 67.79\n",
      "Paris R²: 1.00\n"
     ]
    }
   ],
   "source": [
    "# для paris\n",
    "X_paris = paris_df.drop('price', axis=1)\n",
    "y_paris = paris_df['price'] / 1000  # нормализация целевой переменной\n",
    "\n",
    "scaler = StandardScaler()\n",
    "X_paris_scaled = scaler.fit_transform(X_paris)\n",
    "\n",
    "X_train, X_test, y_train, y_test = train_test_split(X_paris_scaled, y_paris, test_size=0.2, random_state=42)\n",
    "\n",
    "# Модель\n",
    "model_paris = Sequential([\n",
    "    Dense(64, activation='relu', input_shape=(X_train.shape[1],)),\n",
    "    Dense(32, activation='relu'),\n",
    "    Dense(1)\n",
    "])\n",
    "model_paris.compile(optimizer='adam', loss='mse')\n",
    "history_paris = model_paris.fit(X_train, y_train, epochs=100, batch_size=16, validation_split=0.2, verbose=0)\n",
    "\n",
    "# Оценка\n",
    "y_pred = model_paris.predict(X_test)\n",
    "mse = mean_squared_error(y_test, y_pred)\n",
    "r2 = r2_score(y_test, y_pred)\n",
    "\n",
    "print(f'Paris MSE: {mse:.2f}')\n",
    "print(f'Paris R²: {r2:.2f}')\n"
   ]
  },
  {
   "cell_type": "code",
   "execution_count": 11,
   "metadata": {
    "colab": {
     "base_uri": "https://localhost:8080/",
     "height": 452
    },
    "executionInfo": {
     "elapsed": 397,
     "status": "ok",
     "timestamp": 1760959833256,
     "user": {
      "displayName": "Юлия Гор.",
      "userId": "08838257762277085118"
     },
     "user_tz": -180
    },
    "id": "VtjGEL_IYjDT",
    "outputId": "bfb8205b-61a2-4431-a11c-71d7cb76aa56"
   },
   "outputs": [
    {
     "data": {
      "image/png": "[encoded data removed]",
      "text/plain": [
       "<Figure size 640x480 with 1 Axes>"
      ]
     },
     "metadata": {},
     "output_type": "display_data"
    }
   ],
   "source": [
    "import matplotlib.pyplot as plt\n",
    "\n",
    "plt.plot(history_paris.history['loss'], label='Train Loss')\n",
    "plt.plot(history_paris.history['val_loss'], label='Val Loss')\n",
    "plt.legend()\n",
    "plt.title('График обучения модели')\n",
    "plt.show()"
   ]
  },
  {
   "cell_type": "code",
   "execution_count": 12,
   "metadata": {
    "id": "gcWt-6HRZYNT"
   },
   "outputs": [],
   "source": [
    "from sklearn.decomposition import PCA\n",
    "from sklearn.preprocessing import StandardScaler\n",
    "from sklearn.model_selection import train_test_split\n",
    "from sklearn.metrics import mean_squared_error, r2_score\n",
    "from tensorflow.keras.models import Sequential\n",
    "from tensorflow.keras.layers import Dense\n",
    "import pandas as pd\n",
    "import numpy as np"
   ]
  },
  {
   "cell_type": "code",
   "execution_count": 13,
   "metadata": {
    "id": "ZxNF_W3vZbb7"
   },
   "outputs": [],
   "source": [
    "def train_model_with_pca(df, target_column, n_components=0.95, normalize_target=False):\n",
    "    import numpy as np\n",
    "    import matplotlib.pyplot as plt\n",
    "    from sklearn.preprocessing import StandardScaler\n",
    "    from sklearn.decomposition import PCA\n",
    "    from sklearn.model_selection import train_test_split\n",
    "    from sklearn.metrics import mean_squared_error, r2_score\n",
    "    from tensorflow.keras.models import Sequential\n",
    "    from tensorflow.keras.layers import Dense, Input\n",
    "\n",
    "    # Удалим пропуски\n",
    "    df = df.dropna()\n",
    "\n",
    "    # Разделим на признаки и целевую переменную\n",
    "    X = df.drop(target_column, axis=1)\n",
    "    y = df[target_column]\n",
    "\n",
    "    # Нормализация целевой переменной (если нужно)\n",
    "    if normalize_target:\n",
    "        y = y / 1000\n",
    "\n",
    "    # Масштабируем признаки\n",
    "    scaler = StandardScaler()\n",
    "    X_scaled = scaler.fit_transform(X)\n",
    "\n",
    "    # Определим количество компонент, если задано как доля\n",
    "    if isinstance(n_components, float):\n",
    "        pca_temp = PCA()\n",
    "        pca_temp.fit(X_scaled)\n",
    "        explained = np.cumsum(pca_temp.explained_variance_ratio_)\n",
    "        n_components_int = np.argmax(explained >= n_components) + 1\n",
    "    else:\n",
    "        n_components_int = n_components\n",
    "\n",
    "    print(f'Выбрано компонент PCA: {n_components_int}')\n",
    "\n",
    "\n",
    "    # Применим PCA\n",
    "    pca = PCA(n_components=n_components_int)\n",
    "    X_pca = pca.fit_transform(X_scaled)\n",
    "\n",
    "    # Разделим на обучающую и тестовую выборки\n",
    "    X_train, X_test, y_train, y_test = train_test_split(X_pca, y, test_size=0.2, random_state=42)\n",
    "\n",
    "    # Построим модель\n",
    "    model = Sequential([\n",
    "        Input(shape=(n_components_int,)),\n",
    "        Dense(64, activation='relu'),\n",
    "        Dense(32, activation='relu'),\n",
    "        Dense(1)\n",
    "    ])\n",
    "    model.compile(optimizer='adam', loss='mse')\n",
    "\n",
    "    # Обучение с выводом метрик\n",
    "    history = model.fit(X_train, y_train, epochs=100, batch_size=16, validation_split=0.2, verbose=1)\n",
    "\n",
    "    # Оценка\n",
    "    y_pred = model.predict(X_test)\n",
    "    mse = mean_squared_error(y_test, y_pred)\n",
    "    r2 = r2_score(y_test, y_pred)\n",
    "\n",
    "    print(f'\\nИтоговые метрики:')\n",
    "    print(f'MSE: {mse:.2f}')\n",
    "    print(f'R²: {r2:.2f}')\n",
    "\n",
    "    # График обучения\n",
    "    plt.plot(history.history['loss'], label='Train Loss')\n",
    "    plt.plot(history.history['val_loss'], label='Validation Loss')\n",
    "    plt.xlabel('Epoch')\n",
    "    plt.ylabel('Loss')\n",
    "    plt.title('График обучения модели')\n",
    "    plt.legend()\n",
    "    plt.show()\n",
    "\n",
    "    return mse, r2"
   ]
  },
  {
   "cell_type": "code",
   "execution_count": 14,
   "metadata": {
    "colab": {
     "base_uri": "https://localhost:8080/",
     "height": 1000
    },
    "executionInfo": {
     "elapsed": 18013,
     "status": "ok",
     "timestamp": 1760961077641,
     "user": {
      "displayName": "Юлия Гор.",
      "userId": "08838257762277085118"
     },
     "user_tz": -180
    },
    "id": "cJydn_7_Zd27",
    "outputId": "bc3d8c9d-b05f-4cf9-92fa-b59025f7241a"
   },
   "outputs": [
    {
     "name": "stdout",
     "output_type": "stream",
     "text": [
      "Выбрано компонент PCA: 9\n",
      "Epoch 1/100\n",
      "\u001b[1m21/21\u001b[0m \u001b[32m━━━━━━━━━━━━━━━━━━━━\u001b[0m\u001b[37m\u001b[0m \u001b[1m2s\u001b[0m 16ms/step - loss: 587.3727 - val_loss: 504.5896\n",
      "Epoch 2/100\n",
      "\u001b[1m21/21\u001b[0m \u001b[32m━━━━━━━━━━━━━━━━━━━━\u001b[0m\u001b[37m\u001b[0m \u001b[1m0s\u001b[0m 7ms/step - loss: 522.6622 - val_loss: 430.6255\n",
      "Epoch 3/100\n",
      "\u001b[1m21/21\u001b[0m \u001b[32m━━━━━━━━━━━━━━━━━━━━\u001b[0m\u001b[37m\u001b[0m \u001b[1m0s\u001b[0m 7ms/step - loss: 425.1079 - val_loss: 323.0144\n",
      "Epoch 4/100\n",
      "\u001b[1m21/21\u001b[0m \u001b[32m━━━━━━━━━━━━━━━━━━━━\u001b[0m\u001b[37m\u001b[0m \u001b[1m0s\u001b[0m 7ms/step - loss: 293.8391 - val_loss: 192.3193\n",
      "Epoch 5/100\n",
      "\u001b[1m21/21\u001b[0m \u001b[32m━━━━━━━━━━━━━━━━━━━━\u001b[0m\u001b[37m\u001b[0m \u001b[1m0s\u001b[0m 7ms/step - loss: 159.4639 - val_loss: 91.8788\n",
      "Epoch 6/100\n",
      "\u001b[1m21/21\u001b[0m \u001b[32m━━━━━━━━━━━━━━━━━━━━\u001b[0m\u001b[37m\u001b[0m \u001b[1m0s\u001b[0m 7ms/step - loss: 76.7768 - val_loss: 48.0052\n",
      "Epoch 7/100\n",
      "\u001b[1m21/21\u001b[0m \u001b[32m━━━━━━━━━━━━━━━━━━━━\u001b[0m\u001b[37m\u001b[0m \u001b[1m0s\u001b[0m 7ms/step - loss: 46.3718 - val_loss: 36.1969\n",
      "Epoch 8/100\n",
      "\u001b[1m21/21\u001b[0m \u001b[32m━━━━━━━━━━━━━━━━━━━━\u001b[0m\u001b[37m\u001b[0m \u001b[1m0s\u001b[0m 8ms/step - loss: 35.8819 - val_loss: 31.3593\n",
      "Epoch 9/100\n",
      "\u001b[1m21/21\u001b[0m \u001b[32m━━━━━━━━━━━━━━━━━━━━\u001b[0m\u001b[37m\u001b[0m \u001b[1m0s\u001b[0m 9ms/step - loss: 30.4963 - val_loss: 29.1653\n",
      "Epoch 10/100\n",
      "\u001b[1m21/21\u001b[0m \u001b[32m━━━━━━━━━━━━━━━━━━━━\u001b[0m\u001b[37m\u001b[0m \u001b[1m0s\u001b[0m 8ms/step - loss: 27.5170 - val_loss: 27.6257\n",
      "Epoch 11/100\n",
      "\u001b[1m21/21\u001b[0m \u001b[32m━━━━━━━━━━━━━━━━━━━━\u001b[0m\u001b[37m\u001b[0m \u001b[1m0s\u001b[0m 7ms/step - loss: 25.2087 - val_loss: 26.9777\n",
      "Epoch 12/100\n",
      "\u001b[1m21/21\u001b[0m \u001b[32m━━━━━━━━━━━━━━━━━━━━\u001b[0m\u001b[37m\u001b[0m \u001b[1m0s\u001b[0m 7ms/step - loss: 23.6399 - val_loss: 26.2072\n",
      "Epoch 13/100\n",
      "\u001b[1m21/21\u001b[0m \u001b[32m━━━━━━━━━━━━━━━━━━━━\u001b[0m\u001b[37m\u001b[0m \u001b[1m0s\u001b[0m 7ms/step - loss: 22.4482 - val_loss: 25.4725\n",
      "Epoch 14/100\n",
      "\u001b[1m21/21\u001b[0m \u001b[32m━━━━━━━━━━━━━━━━━━━━\u001b[0m\u001b[37m\u001b[0m \u001b[1m1s\u001b[0m 17ms/step - loss: 21.4651 - val_loss: 24.6649\n",
      "Epoch 15/100\n",
      "\u001b[1m21/21\u001b[0m \u001b[32m━━━━━━━━━━━━━━━━━━━━\u001b[0m\u001b[37m\u001b[0m \u001b[1m0s\u001b[0m 9ms/step - loss: 20.5529 - val_loss: 24.3673\n",
      "Epoch 16/100\n",
      "\u001b[1m21/21\u001b[0m \u001b[32m━━━━━━━━━━━━━━━━━━━━\u001b[0m\u001b[37m\u001b[0m \u001b[1m0s\u001b[0m 9ms/step - loss: 20.1145 - val_loss: 23.8984\n",
      "Epoch 17/100\n",
      "\u001b[1m21/21\u001b[0m \u001b[32m━━━━━━━━━━━━━━━━━━━━\u001b[0m\u001b[37m\u001b[0m \u001b[1m0s\u001b[0m 7ms/step - loss: 19.6362 - val_loss: 23.1910\n",
      "Epoch 18/100\n",
      "\u001b[1m21/21\u001b[0m \u001b[32m━━━━━━━━━━━━━━━━━━━━\u001b[0m\u001b[37m\u001b[0m \u001b[1m0s\u001b[0m 7ms/step - loss: 18.8825 - val_loss: 22.9359\n",
      "Epoch 19/100\n",
      "\u001b[1m21/21\u001b[0m \u001b[32m━━━━━━━━━━━━━━━━━━━━\u001b[0m\u001b[37m\u001b[0m \u001b[1m0s\u001b[0m 7ms/step - loss: 18.2590 - val_loss: 22.9506\n",
      "Epoch 20/100\n",
      "\u001b[1m21/21\u001b[0m \u001b[32m━━━━━━━━━━━━━━━━━━━━\u001b[0m\u001b[37m\u001b[0m \u001b[1m0s\u001b[0m 7ms/step - loss: 18.1819 - val_loss: 23.0251\n",
      "Epoch 21/100\n",
      "\u001b[1m21/21\u001b[0m \u001b[32m━━━━━━━━━━━━━━━━━━━━\u001b[0m\u001b[37m\u001b[0m \u001b[1m0s\u001b[0m 7ms/step - loss: 17.6928 - val_loss: 22.6625\n",
      "Epoch 22/100\n",
      "\u001b[1m21/21\u001b[0m \u001b[32m━━━━━━━━━━━━━━━━━━━━\u001b[0m\u001b[37m\u001b[0m \u001b[1m0s\u001b[0m 9ms/step - loss: 17.4990 - val_loss: 22.3542\n",
      "Epoch 23/100\n",
      "\u001b[1m21/21\u001b[0m \u001b[32m━━━━━━━━━━━━━━━━━━━━\u001b[0m\u001b[37m\u001b[0m \u001b[1m0s\u001b[0m 9ms/step - loss: 17.3556 - val_loss: 22.8882\n",
      "Epoch 24/100\n",
      "\u001b[1m21/21\u001b[0m \u001b[32m━━━━━━━━━━━━━━━━━━━━\u001b[0m\u001b[37m\u001b[0m \u001b[1m0s\u001b[0m 9ms/step - loss: 17.1486 - val_loss: 21.7050\n",
      "Epoch 25/100\n",
      "\u001b[1m21/21\u001b[0m \u001b[32m━━━━━━━━━━━━━━━━━━━━\u001b[0m\u001b[37m\u001b[0m \u001b[1m0s\u001b[0m 9ms/step - loss: 16.8274 - val_loss: 21.7200\n",
      "Epoch 26/100\n",
      "\u001b[1m21/21\u001b[0m \u001b[32m━━━━━━━━━━━━━━━━━━━━\u001b[0m\u001b[37m\u001b[0m \u001b[1m0s\u001b[0m 8ms/step - loss: 16.5170 - val_loss: 21.4187\n",
      "Epoch 27/100\n",
      "\u001b[1m21/21\u001b[0m \u001b[32m━━━━━━━━━━━━━━━━━━━━\u001b[0m\u001b[37m\u001b[0m \u001b[1m0s\u001b[0m 9ms/step - loss: 16.2466 - val_loss: 21.2424\n",
      "Epoch 28/100\n",
      "\u001b[1m21/21\u001b[0m \u001b[32m━━━━━━━━━━━━━━━━━━━━\u001b[0m\u001b[37m\u001b[0m \u001b[1m0s\u001b[0m 9ms/step - loss: 16.0859 - val_loss: 21.0521\n",
      "Epoch 29/100\n",
      "\u001b[1m21/21\u001b[0m \u001b[32m━━━━━━━━━━━━━━━━━━━━\u001b[0m\u001b[37m\u001b[0m \u001b[1m0s\u001b[0m 8ms/step - loss: 15.9465 - val_loss: 21.0266\n",
      "Epoch 30/100\n",
      "\u001b[1m21/21\u001b[0m \u001b[32m━━━━━━━━━━━━━━━━━━━━\u001b[0m\u001b[37m\u001b[0m \u001b[1m0s\u001b[0m 7ms/step - loss: 15.7731 - val_loss: 20.8638\n",
      "Epoch 31/100\n",
      "\u001b[1m21/21\u001b[0m \u001b[32m━━━━━━━━━━━━━━━━━━━━\u001b[0m\u001b[37m\u001b[0m \u001b[1m0s\u001b[0m 7ms/step - loss: 15.6915 - val_loss: 21.4635\n",
      "Epoch 32/100\n",
      "\u001b[1m21/21\u001b[0m \u001b[32m━━━━━━━━━━━━━━━━━━━━\u001b[0m\u001b[37m\u001b[0m \u001b[1m0s\u001b[0m 7ms/step - loss: 15.9981 - val_loss: 20.5260\n",
      "Epoch 33/100\n",
      "\u001b[1m21/21\u001b[0m \u001b[32m━━━━━━━━━━━━━━━━━━━━\u001b[0m\u001b[37m\u001b[0m \u001b[1m0s\u001b[0m 8ms/step - loss: 15.4065 - val_loss: 20.3396\n",
      "Epoch 34/100\n",
      "\u001b[1m21/21\u001b[0m \u001b[32m━━━━━━━━━━━━━━━━━━━━\u001b[0m\u001b[37m\u001b[0m \u001b[1m0s\u001b[0m 10ms/step - loss: 15.2889 - val_loss: 20.3066\n",
      "Epoch 35/100\n",
      "\u001b[1m21/21\u001b[0m \u001b[32m━━━━━━━━━━━━━━━━━━━━\u001b[0m\u001b[37m\u001b[0m \u001b[1m0s\u001b[0m 10ms/step - loss: 14.9601 - val_loss: 20.3897\n",
      "Epoch 36/100\n",
      "\u001b[1m21/21\u001b[0m \u001b[32m━━━━━━━━━━━━━━━━━━━━\u001b[0m\u001b[37m\u001b[0m \u001b[1m0s\u001b[0m 10ms/step - loss: 15.7196 - val_loss: 20.0013\n",
      "Epoch 37/100\n",
      "\u001b[1m21/21\u001b[0m \u001b[32m━━━━━━━━━━━━━━━━━━━━\u001b[0m\u001b[37m\u001b[0m \u001b[1m0s\u001b[0m 8ms/step - loss: 14.7658 - val_loss: 20.0474\n",
      "Epoch 38/100\n",
      "\u001b[1m21/21\u001b[0m \u001b[32m━━━━━━━━━━━━━━━━━━━━\u001b[0m\u001b[37m\u001b[0m \u001b[1m0s\u001b[0m 7ms/step - loss: 14.7287 - val_loss: 20.1601\n",
      "Epoch 39/100\n",
      "\u001b[1m21/21\u001b[0m \u001b[32m━━━━━━━━━━━━━━━━━━━━\u001b[0m\u001b[37m\u001b[0m \u001b[1m0s\u001b[0m 10ms/step - loss: 14.4054 - val_loss: 19.6787\n",
      "Epoch 40/100\n",
      "\u001b[1m21/21\u001b[0m \u001b[32m━━━━━━━━━━━━━━━━━━━━\u001b[0m\u001b[37m\u001b[0m \u001b[1m0s\u001b[0m 9ms/step - loss: 14.5920 - val_loss: 18.7903\n",
      "Epoch 41/100\n",
      "\u001b[1m21/21\u001b[0m \u001b[32m━━━━━━━━━━━━━━━━━━━━\u001b[0m\u001b[37m\u001b[0m \u001b[1m0s\u001b[0m 10ms/step - loss: 14.2898 - val_loss: 18.8235\n",
      "Epoch 42/100\n",
      "\u001b[1m21/21\u001b[0m \u001b[32m━━━━━━━━━━━━━━━━━━━━\u001b[0m\u001b[37m\u001b[0m \u001b[1m0s\u001b[0m 10ms/step - loss: 14.0775 - val_loss: 18.6852\n",
      "Epoch 43/100\n",
      "\u001b[1m21/21\u001b[0m \u001b[32m━━━━━━━━━━━━━━━━━━━━\u001b[0m\u001b[37m\u001b[0m \u001b[1m0s\u001b[0m 8ms/step - loss: 13.9826 - val_loss: 18.7651\n",
      "Epoch 44/100\n",
      "\u001b[1m21/21\u001b[0m \u001b[32m━━━━━━━━━━━━━━━━━━━━\u001b[0m\u001b[37m\u001b[0m \u001b[1m0s\u001b[0m 12ms/step - loss: 13.8478 - val_loss: 18.9857\n",
      "Epoch 45/100\n",
      "\u001b[1m21/21\u001b[0m \u001b[32m━━━━━━━━━━━━━━━━━━━━\u001b[0m\u001b[37m\u001b[0m \u001b[1m0s\u001b[0m 10ms/step - loss: 13.7784 - val_loss: 18.7411\n",
      "Epoch 46/100\n",
      "\u001b[1m21/21\u001b[0m \u001b[32m━━━━━━━━━━━━━━━━━━━━\u001b[0m\u001b[37m\u001b[0m \u001b[1m0s\u001b[0m 7ms/step - loss: 13.7555 - val_loss: 18.8175\n",
      "Epoch 47/100\n",
      "\u001b[1m21/21\u001b[0m \u001b[32m━━━━━━━━━━━━━━━━━━━━\u001b[0m\u001b[37m\u001b[0m \u001b[1m0s\u001b[0m 10ms/step - loss: 13.6844 - val_loss: 18.5296\n",
      "Epoch 48/100\n",
      "\u001b[1m21/21\u001b[0m \u001b[32m━━━━━━━━━━━━━━━━━━━━\u001b[0m\u001b[37m\u001b[0m \u001b[1m0s\u001b[0m 11ms/step - loss: 13.5128 - val_loss: 18.7297\n",
      "Epoch 49/100\n",
      "\u001b[1m21/21\u001b[0m \u001b[32m━━━━━━━━━━━━━━━━━━━━\u001b[0m\u001b[37m\u001b[0m \u001b[1m0s\u001b[0m 10ms/step - loss: 13.4244 - val_loss: 18.5094\n",
      "Epoch 50/100\n",
      "\u001b[1m21/21\u001b[0m \u001b[32m━━━━━━━━━━━━━━━━━━━━\u001b[0m\u001b[37m\u001b[0m \u001b[1m0s\u001b[0m 10ms/step - loss: 13.2625 - val_loss: 18.1132\n",
      "Epoch 51/100\n",
      "\u001b[1m21/21\u001b[0m \u001b[32m━━━━━━━━━━━━━━━━━━━━\u001b[0m\u001b[37m\u001b[0m \u001b[1m0s\u001b[0m 11ms/step - loss: 13.4715 - val_loss: 17.8434\n",
      "Epoch 52/100\n",
      "\u001b[1m21/21\u001b[0m \u001b[32m━━━━━━━━━━━━━━━━━━━━\u001b[0m\u001b[37m\u001b[0m \u001b[1m0s\u001b[0m 10ms/step - loss: 13.1726 - val_loss: 18.0522\n",
      "Epoch 53/100\n",
      "\u001b[1m21/21\u001b[0m \u001b[32m━━━━━━━━━━━━━━━━━━━━\u001b[0m\u001b[37m\u001b[0m \u001b[1m0s\u001b[0m 7ms/step - loss: 13.0527 - val_loss: 18.2699\n",
      "Epoch 54/100\n",
      "\u001b[1m21/21\u001b[0m \u001b[32m━━━━━━━━━━━━━━━━━━━━\u001b[0m\u001b[37m\u001b[0m \u001b[1m0s\u001b[0m 8ms/step - loss: 12.8730 - val_loss: 17.9171\n",
      "Epoch 55/100\n",
      "\u001b[1m21/21\u001b[0m \u001b[32m━━━━━━━━━━━━━━━━━━━━\u001b[0m\u001b[37m\u001b[0m \u001b[1m0s\u001b[0m 8ms/step - loss: 12.8591 - val_loss: 18.0854\n",
      "Epoch 56/100\n",
      "\u001b[1m21/21\u001b[0m \u001b[32m━━━━━━━━━━━━━━━━━━━━\u001b[0m\u001b[37m\u001b[0m \u001b[1m0s\u001b[0m 7ms/step - loss: 12.7102 - val_loss: 18.1047\n",
      "Epoch 57/100\n",
      "\u001b[1m21/21\u001b[0m \u001b[32m━━━━━━━━━━━━━━━━━━━━\u001b[0m\u001b[37m\u001b[0m \u001b[1m0s\u001b[0m 9ms/step - loss: 12.8337 - val_loss: 17.8663\n",
      "Epoch 58/100\n",
      "\u001b[1m21/21\u001b[0m \u001b[32m━━━━━━━━━━━━━━━━━━━━\u001b[0m\u001b[37m\u001b[0m \u001b[1m0s\u001b[0m 17ms/step - loss: 12.7253 - val_loss: 18.1455\n",
      "Epoch 59/100\n",
      "\u001b[1m21/21\u001b[0m \u001b[32m━━━━━━━━━━━━━━━━━━━━\u001b[0m\u001b[37m\u001b[0m \u001b[1m0s\u001b[0m 9ms/step - loss: 12.5795 - val_loss: 17.7010\n",
      "Epoch 60/100\n",
      "\u001b[1m21/21\u001b[0m \u001b[32m━━━━━━━━━━━━━━━━━━━━\u001b[0m\u001b[37m\u001b[0m \u001b[1m0s\u001b[0m 7ms/step - loss: 12.5488 - val_loss: 17.7728\n",
      "Epoch 61/100\n",
      "\u001b[1m21/21\u001b[0m \u001b[32m━━━━━━━━━━━━━━━━━━━━\u001b[0m\u001b[37m\u001b[0m \u001b[1m0s\u001b[0m 7ms/step - loss: 12.3721 - val_loss: 17.6674\n",
      "Epoch 62/100\n",
      "\u001b[1m21/21\u001b[0m \u001b[32m━━━━━━━━━━━━━━━━━━━━\u001b[0m\u001b[37m\u001b[0m \u001b[1m0s\u001b[0m 7ms/step - loss: 12.5386 - val_loss: 17.5263\n",
      "Epoch 63/100\n",
      "\u001b[1m21/21\u001b[0m \u001b[32m━━━━━━━━━━━━━━━━━━━━\u001b[0m\u001b[37m\u001b[0m \u001b[1m0s\u001b[0m 9ms/step - loss: 12.3908 - val_loss: 17.9385\n",
      "Epoch 64/100\n",
      "\u001b[1m21/21\u001b[0m \u001b[32m━━━━━━━━━━━━━━━━━━━━\u001b[0m\u001b[37m\u001b[0m \u001b[1m0s\u001b[0m 10ms/step - loss: 12.2258 - val_loss: 17.8386\n",
      "Epoch 65/100\n",
      "\u001b[1m21/21\u001b[0m \u001b[32m━━━━━━━━━━━━━━━━━━━━\u001b[0m\u001b[37m\u001b[0m \u001b[1m0s\u001b[0m 7ms/step - loss: 12.3807 - val_loss: 17.2314\n",
      "Epoch 66/100\n",
      "\u001b[1m21/21\u001b[0m \u001b[32m━━━━━━━━━━━━━━━━━━━━\u001b[0m\u001b[37m\u001b[0m \u001b[1m0s\u001b[0m 8ms/step - loss: 11.9984 - val_loss: 17.6083\n",
      "Epoch 67/100\n",
      "\u001b[1m21/21\u001b[0m \u001b[32m━━━━━━━━━━━━━━━━━━━━\u001b[0m\u001b[37m\u001b[0m \u001b[1m0s\u001b[0m 7ms/step - loss: 12.1923 - val_loss: 17.6195\n",
      "Epoch 68/100\n",
      "\u001b[1m21/21\u001b[0m \u001b[32m━━━━━━━━━━━━━━━━━━━━\u001b[0m\u001b[37m\u001b[0m \u001b[1m0s\u001b[0m 8ms/step - loss: 12.0657 - val_loss: 17.8081\n",
      "Epoch 69/100\n",
      "\u001b[1m21/21\u001b[0m \u001b[32m━━━━━━━━━━━━━━━━━━━━\u001b[0m\u001b[37m\u001b[0m \u001b[1m0s\u001b[0m 10ms/step - loss: 11.9744 - val_loss: 17.4500\n",
      "Epoch 70/100\n",
      "\u001b[1m21/21\u001b[0m \u001b[32m━━━━━━━━━━━━━━━━━━━━\u001b[0m\u001b[37m\u001b[0m \u001b[1m0s\u001b[0m 8ms/step - loss: 11.8903 - val_loss: 17.1073\n",
      "Epoch 71/100\n",
      "\u001b[1m21/21\u001b[0m \u001b[32m━━━━━━━━━━━━━━━━━━━━\u001b[0m\u001b[37m\u001b[0m \u001b[1m0s\u001b[0m 8ms/step - loss: 11.7731 - val_loss: 17.4772\n",
      "Epoch 72/100\n",
      "\u001b[1m21/21\u001b[0m \u001b[32m━━━━━━━━━━━━━━━━━━━━\u001b[0m\u001b[37m\u001b[0m \u001b[1m0s\u001b[0m 7ms/step - loss: 11.6996 - val_loss: 17.2732\n",
      "Epoch 73/100\n",
      "\u001b[1m21/21\u001b[0m \u001b[32m━━━━━━━━━━━━━━━━━━━━\u001b[0m\u001b[37m\u001b[0m \u001b[1m0s\u001b[0m 8ms/step - loss: 11.6678 - val_loss: 17.0333\n",
      "Epoch 74/100\n",
      "\u001b[1m21/21\u001b[0m \u001b[32m━━━━━━━━━━━━━━━━━━━━\u001b[0m\u001b[37m\u001b[0m \u001b[1m0s\u001b[0m 9ms/step - loss: 11.5677 - val_loss: 17.1846\n",
      "Epoch 75/100\n",
      "\u001b[1m21/21\u001b[0m \u001b[32m━━━━━━━━━━━━━━━━━━━━\u001b[0m\u001b[37m\u001b[0m \u001b[1m0s\u001b[0m 11ms/step - loss: 11.5405 - val_loss: 17.0750\n",
      "Epoch 76/100\n",
      "\u001b[1m21/21\u001b[0m \u001b[32m━━━━━━━━━━━━━━━━━━━━\u001b[0m\u001b[37m\u001b[0m \u001b[1m0s\u001b[0m 9ms/step - loss: 11.5286 - val_loss: 17.3653\n",
      "Epoch 77/100\n",
      "\u001b[1m21/21\u001b[0m \u001b[32m━━━━━━━━━━━━━━━━━━━━\u001b[0m\u001b[37m\u001b[0m \u001b[1m0s\u001b[0m 7ms/step - loss: 11.5209 - val_loss: 16.8056\n",
      "Epoch 78/100\n",
      "\u001b[1m21/21\u001b[0m \u001b[32m━━━━━━━━━━━━━━━━━━━━\u001b[0m\u001b[37m\u001b[0m \u001b[1m0s\u001b[0m 7ms/step - loss: 11.4602 - val_loss: 16.6423\n",
      "Epoch 79/100\n",
      "\u001b[1m21/21\u001b[0m \u001b[32m━━━━━━━━━━━━━━━━━━━━\u001b[0m\u001b[37m\u001b[0m \u001b[1m0s\u001b[0m 9ms/step - loss: 11.3551 - val_loss: 16.7320\n",
      "Epoch 80/100\n",
      "\u001b[1m21/21\u001b[0m \u001b[32m━━━━━━━━━━━━━━━━━━━━\u001b[0m\u001b[37m\u001b[0m \u001b[1m0s\u001b[0m 9ms/step - loss: 11.4333 - val_loss: 16.7959\n",
      "Epoch 81/100\n",
      "\u001b[1m21/21\u001b[0m \u001b[32m━━━━━━━━━━━━━━━━━━━━\u001b[0m\u001b[37m\u001b[0m \u001b[1m0s\u001b[0m 8ms/step - loss: 11.2521 - val_loss: 17.0697\n",
      "Epoch 82/100\n",
      "\u001b[1m21/21\u001b[0m \u001b[32m━━━━━━━━━━━━━━━━━━━━\u001b[0m\u001b[37m\u001b[0m \u001b[1m0s\u001b[0m 8ms/step - loss: 11.2395 - val_loss: 17.0780\n",
      "Epoch 83/100\n",
      "\u001b[1m21/21\u001b[0m \u001b[32m━━━━━━━━━━━━━━━━━━━━\u001b[0m\u001b[37m\u001b[0m \u001b[1m0s\u001b[0m 8ms/step - loss: 11.2975 - val_loss: 16.5228\n",
      "Epoch 84/100\n",
      "\u001b[1m21/21\u001b[0m \u001b[32m━━━━━━━━━━━━━━━━━━━━\u001b[0m\u001b[37m\u001b[0m \u001b[1m0s\u001b[0m 8ms/step - loss: 11.0683 - val_loss: 16.7266\n",
      "Epoch 85/100\n",
      "\u001b[1m21/21\u001b[0m \u001b[32m━━━━━━━━━━━━━━━━━━━━\u001b[0m\u001b[37m\u001b[0m \u001b[1m0s\u001b[0m 10ms/step - loss: 10.9632 - val_loss: 16.6009\n",
      "Epoch 86/100\n",
      "\u001b[1m21/21\u001b[0m \u001b[32m━━━━━━━━━━━━━━━━━━━━\u001b[0m\u001b[37m\u001b[0m \u001b[1m0s\u001b[0m 8ms/step - loss: 11.0824 - val_loss: 17.1010\n",
      "Epoch 87/100\n",
      "\u001b[1m21/21\u001b[0m \u001b[32m━━━━━━━━━━━━━━━━━━━━\u001b[0m\u001b[37m\u001b[0m \u001b[1m0s\u001b[0m 8ms/step - loss: 10.8844 - val_loss: 16.3979\n",
      "Epoch 88/100\n",
      "\u001b[1m21/21\u001b[0m \u001b[32m━━━━━━━━━━━━━━━━━━━━\u001b[0m\u001b[37m\u001b[0m \u001b[1m0s\u001b[0m 8ms/step - loss: 10.8355 - val_loss: 16.3004\n",
      "Epoch 89/100\n",
      "\u001b[1m21/21\u001b[0m \u001b[32m━━━━━━━━━━━━━━━━━━━━\u001b[0m\u001b[37m\u001b[0m \u001b[1m0s\u001b[0m 7ms/step - loss: 10.8291 - val_loss: 16.2552\n",
      "Epoch 90/100\n",
      "\u001b[1m21/21\u001b[0m \u001b[32m━━━━━━━━━━━━━━━━━━━━\u001b[0m\u001b[37m\u001b[0m \u001b[1m0s\u001b[0m 8ms/step - loss: 10.8870 - val_loss: 16.1083\n",
      "Epoch 91/100\n",
      "\u001b[1m21/21\u001b[0m \u001b[32m━━━━━━━━━━━━━━━━━━━━\u001b[0m\u001b[37m\u001b[0m \u001b[1m0s\u001b[0m 7ms/step - loss: 10.8170 - val_loss: 16.0276\n",
      "Epoch 92/100\n",
      "\u001b[1m21/21\u001b[0m \u001b[32m━━━━━━━━━━━━━━━━━━━━\u001b[0m\u001b[37m\u001b[0m \u001b[1m0s\u001b[0m 9ms/step - loss: 10.7282 - val_loss: 15.9047\n",
      "Epoch 93/100\n",
      "\u001b[1m21/21\u001b[0m \u001b[32m━━━━━━━━━━━━━━━━━━━━\u001b[0m\u001b[37m\u001b[0m \u001b[1m0s\u001b[0m 9ms/step - loss: 10.7750 - val_loss: 15.9105\n",
      "Epoch 94/100\n",
      "\u001b[1m21/21\u001b[0m \u001b[32m━━━━━━━━━━━━━━━━━━━━\u001b[0m\u001b[37m\u001b[0m \u001b[1m0s\u001b[0m 8ms/step - loss: 10.7189 - val_loss: 16.0573\n",
      "Epoch 95/100\n",
      "\u001b[1m21/21\u001b[0m \u001b[32m━━━━━━━━━━━━━━━━━━━━\u001b[0m\u001b[37m\u001b[0m \u001b[1m0s\u001b[0m 8ms/step - loss: 10.4906 - val_loss: 16.0230\n",
      "Epoch 96/100\n",
      "\u001b[1m21/21\u001b[0m \u001b[32m━━━━━━━━━━━━━━━━━━━━\u001b[0m\u001b[37m\u001b[0m \u001b[1m0s\u001b[0m 8ms/step - loss: 10.6663 - val_loss: 16.6638\n",
      "Epoch 97/100\n",
      "\u001b[1m21/21\u001b[0m \u001b[32m━━━━━━━━━━━━━━━━━━━━\u001b[0m\u001b[37m\u001b[0m \u001b[1m0s\u001b[0m 8ms/step - loss: 10.3750 - val_loss: 15.9019\n",
      "Epoch 98/100\n",
      "\u001b[1m21/21\u001b[0m \u001b[32m━━━━━━━━━━━━━━━━━━━━\u001b[0m\u001b[37m\u001b[0m \u001b[1m0s\u001b[0m 9ms/step - loss: 10.2832 - val_loss: 16.0876\n",
      "Epoch 99/100\n",
      "\u001b[1m21/21\u001b[0m \u001b[32m━━━━━━━━━━━━━━━━━━━━\u001b[0m\u001b[37m\u001b[0m \u001b[1m0s\u001b[0m 8ms/step - loss: 10.2785 - val_loss: 16.2050\n",
      "Epoch 100/100\n",
      "\u001b[1m21/21\u001b[0m \u001b[32m━━━━━━━━━━━━━━━━━━━━\u001b[0m\u001b[37m\u001b[0m \u001b[1m0s\u001b[0m 8ms/step - loss: 10.1219 - val_loss: 16.2095\n",
      "\u001b[1m4/4\u001b[0m \u001b[32m━━━━━━━━━━━━━━━━━━━━\u001b[0m\u001b[37m\u001b[0m \u001b[1m0s\u001b[0m 23ms/step\n",
      "\n",
      "Итоговые метрики:\n",
      "MSE: 14.96\n",
      "R²: 0.80\n"
     ]
    },
    {
     "data": {
      "image/png": "[encoded data removed]",
      "text/plain": [
       "<Figure size 640x480 with 1 Axes>"
      ]
     },
     "metadata": {},
     "output_type": "display_data"
    }
   ],
   "source": [
    "mse_boston_pca, r2_boston_pca = train_model_with_pca(boston_df, target_column='medv', n_components=0.95)\n"
   ]
  },
  {
   "cell_type": "code",
   "execution_count": 15,
   "metadata": {
    "colab": {
     "base_uri": "https://localhost:8080/",
     "height": 1000
    },
    "executionInfo": {
     "elapsed": 119465,
     "status": "ok",
     "timestamp": 1760964146505,
     "user": {
      "displayName": "Юлия Гор.",
      "userId": "08838257762277085118"
     },
     "user_tz": -180
    },
    "id": "rDTb3b7kZrhr",
    "outputId": "0409210b-488f-4304-a786-2c7052a118ac"
   },
   "outputs": [
    {
     "name": "stdout",
     "output_type": "stream",
     "text": [
      "Выбрано компонент PCA: 15\n",
      "Epoch 1/100\n",
      "\u001b[1m400/400\u001b[0m \u001b[32m━━━━━━━━━━━━━━━━━━━━\u001b[0m\u001b[37m\u001b[0m \u001b[1m3s\u001b[0m 3ms/step - loss: 30279272.0000 - val_loss: 23949812.0000\n",
      "Epoch 2/100\n",
      "\u001b[1m400/400\u001b[0m \u001b[32m━━━━━━━━━━━━━━━━━━━━\u001b[0m\u001b[37m\u001b[0m \u001b[1m2s\u001b[0m 3ms/step - loss: 10553267.0000 - val_loss: 1778083.2500\n",
      "Epoch 3/100\n",
      "\u001b[1m400/400\u001b[0m \u001b[32m━━━━━━━━━━━━━━━━━━━━\u001b[0m\u001b[37m\u001b[0m \u001b[1m1s\u001b[0m 3ms/step - loss: 737065.3750 - val_loss: 361710.3125\n",
      "Epoch 4/100\n",
      "\u001b[1m400/400\u001b[0m \u001b[32m━━━━━━━━━━━━━━━━━━━━\u001b[0m\u001b[37m\u001b[0m \u001b[1m1s\u001b[0m 3ms/step - loss: 277510.4062 - val_loss: 225759.3125\n",
      "Epoch 5/100\n",
      "\u001b[1m400/400\u001b[0m \u001b[32m━━━━━━━━━━━━━━━━━━━━\u001b[0m\u001b[37m\u001b[0m \u001b[1m1s\u001b[0m 3ms/step - loss: 214466.4531 - val_loss: 202570.4062\n",
      "Epoch 6/100\n",
      "\u001b[1m400/400\u001b[0m \u001b[32m━━━━━━━━━━━━━━━━━━━━\u001b[0m\u001b[37m\u001b[0m \u001b[1m1s\u001b[0m 3ms/step - loss: 196619.9375 - val_loss: 188971.7344\n",
      "Epoch 7/100\n",
      "\u001b[1m400/400\u001b[0m \u001b[32m━━━━━━━━━━━━━━━━━━━━\u001b[0m\u001b[37m\u001b[0m \u001b[1m1s\u001b[0m 3ms/step - loss: 180718.5156 - val_loss: 172904.9219\n",
      "Epoch 8/100\n",
      "\u001b[1m400/400\u001b[0m \u001b[32m━━━━━━━━━━━━━━━━━━━━\u001b[0m\u001b[37m\u001b[0m \u001b[1m1s\u001b[0m 3ms/step - loss: 164232.5156 - val_loss: 157469.6562\n",
      "Epoch 9/100\n",
      "\u001b[1m400/400\u001b[0m \u001b[32m━━━━━━━━━━━━━━━━━━━━\u001b[0m\u001b[37m\u001b[0m \u001b[1m1s\u001b[0m 3ms/step - loss: 147214.0625 - val_loss: 140505.5469\n",
      "Epoch 10/100\n",
      "\u001b[1m400/400\u001b[0m \u001b[32m━━━━━━━━━━━━━━━━━━━━\u001b[0m\u001b[37m\u001b[0m \u001b[1m1s\u001b[0m 3ms/step - loss: 128808.8906 - val_loss: 121097.3984\n",
      "Epoch 11/100\n",
      "\u001b[1m400/400\u001b[0m \u001b[32m━━━━━━━━━━━━━━━━━━━━\u001b[0m\u001b[37m\u001b[0m \u001b[1m1s\u001b[0m 3ms/step - loss: 108676.7422 - val_loss: 99995.1875\n",
      "Epoch 12/100\n",
      "\u001b[1m400/400\u001b[0m \u001b[32m━━━━━━━━━━━━━━━━━━━━\u001b[0m\u001b[37m\u001b[0m \u001b[1m1s\u001b[0m 3ms/step - loss: 86142.3906 - val_loss: 75907.2344\n",
      "Epoch 13/100\n",
      "\u001b[1m400/400\u001b[0m \u001b[32m━━━━━━━━━━━━━━━━━━━━\u001b[0m\u001b[37m\u001b[0m \u001b[1m1s\u001b[0m 3ms/step - loss: 62497.7148 - val_loss: 52545.1641\n",
      "Epoch 14/100\n",
      "\u001b[1m400/400\u001b[0m \u001b[32m━━━━━━━━━━━━━━━━━━━━\u001b[0m\u001b[37m\u001b[0m \u001b[1m1s\u001b[0m 3ms/step - loss: 41395.8320 - val_loss: 33750.3359\n",
      "Epoch 15/100\n",
      "\u001b[1m400/400\u001b[0m \u001b[32m━━━━━━━━━━━━━━━━━━━━\u001b[0m\u001b[37m\u001b[0m \u001b[1m1s\u001b[0m 3ms/step - loss: 26619.6602 - val_loss: 22438.2207\n",
      "Epoch 16/100\n",
      "\u001b[1m400/400\u001b[0m \u001b[32m━━━━━━━━━━━━━━━━━━━━\u001b[0m\u001b[37m\u001b[0m \u001b[1m1s\u001b[0m 3ms/step - loss: 18311.1797 - val_loss: 16703.2793\n",
      "Epoch 17/100\n",
      "\u001b[1m400/400\u001b[0m \u001b[32m━━━━━━━━━━━━━━━━━━━━\u001b[0m\u001b[37m\u001b[0m \u001b[1m1s\u001b[0m 3ms/step - loss: 13636.1025 - val_loss: 12591.8213\n",
      "Epoch 18/100\n",
      "\u001b[1m400/400\u001b[0m \u001b[32m━━━━━━━━━━━━━━━━━━━━\u001b[0m\u001b[37m\u001b[0m \u001b[1m1s\u001b[0m 3ms/step - loss: 9974.5527 - val_loss: 9340.4863\n",
      "Epoch 19/100\n",
      "\u001b[1m400/400\u001b[0m \u001b[32m━━━━━━━━━━━━━━━━━━━━\u001b[0m\u001b[37m\u001b[0m \u001b[1m1s\u001b[0m 3ms/step - loss: 7578.5977 - val_loss: 7274.1069\n",
      "Epoch 20/100\n",
      "\u001b[1m400/400\u001b[0m \u001b[32m━━━━━━━━━━━━━━━━━━━━\u001b[0m\u001b[37m\u001b[0m \u001b[1m1s\u001b[0m 3ms/step - loss: 5855.9751 - val_loss: 5730.3652\n",
      "Epoch 21/100\n",
      "\u001b[1m400/400\u001b[0m \u001b[32m━━━━━━━━━━━━━━━━━━━━\u001b[0m\u001b[37m\u001b[0m \u001b[1m1s\u001b[0m 3ms/step - loss: 4603.9995 - val_loss: 4566.4810\n",
      "Epoch 22/100\n",
      "\u001b[1m400/400\u001b[0m \u001b[32m━━━━━━━━━━━━━━━━━━━━\u001b[0m\u001b[37m\u001b[0m \u001b[1m2s\u001b[0m 3ms/step - loss: 3709.3662 - val_loss: 3846.6873\n",
      "Epoch 23/100\n",
      "\u001b[1m400/400\u001b[0m \u001b[32m━━━━━━━━━━━━━━━━━━━━\u001b[0m\u001b[37m\u001b[0m \u001b[1m1s\u001b[0m 3ms/step - loss: 3052.0127 - val_loss: 3219.7932\n",
      "Epoch 24/100\n",
      "\u001b[1m400/400\u001b[0m \u001b[32m━━━━━━━━━━━━━━━━━━━━\u001b[0m\u001b[37m\u001b[0m \u001b[1m1s\u001b[0m 3ms/step - loss: 2593.6152 - val_loss: 2797.6069\n",
      "Epoch 25/100\n",
      "\u001b[1m400/400\u001b[0m \u001b[32m━━━━━━━━━━━━━━━━━━━━\u001b[0m\u001b[37m\u001b[0m \u001b[1m2s\u001b[0m 3ms/step - loss: 2230.3799 - val_loss: 2401.3127\n",
      "Epoch 26/100\n",
      "\u001b[1m400/400\u001b[0m \u001b[32m━━━━━━━━━━━━━━━━━━━━\u001b[0m\u001b[37m\u001b[0m \u001b[1m1s\u001b[0m 3ms/step - loss: 1948.6061 - val_loss: 2223.3457\n",
      "Epoch 27/100\n",
      "\u001b[1m400/400\u001b[0m \u001b[32m━━━━━━━━━━━━━━━━━━━━\u001b[0m\u001b[37m\u001b[0m \u001b[1m1s\u001b[0m 3ms/step - loss: 1692.7264 - val_loss: 1957.0715\n",
      "Epoch 28/100\n",
      "\u001b[1m400/400\u001b[0m \u001b[32m━━━━━━━━━━━━━━━━━━━━\u001b[0m\u001b[37m\u001b[0m \u001b[1m1s\u001b[0m 3ms/step - loss: 1535.1344 - val_loss: 1697.6282\n",
      "Epoch 29/100\n",
      "\u001b[1m400/400\u001b[0m \u001b[32m━━━━━━━━━━━━━━━━━━━━\u001b[0m\u001b[37m\u001b[0m \u001b[1m2s\u001b[0m 3ms/step - loss: 1406.4513 - val_loss: 1735.9364\n",
      "Epoch 30/100\n",
      "\u001b[1m400/400\u001b[0m \u001b[32m━━━━━━━━━━━━━━━━━━━━\u001b[0m\u001b[37m\u001b[0m \u001b[1m1s\u001b[0m 3ms/step - loss: 1296.7583 - val_loss: 1418.6514\n",
      "Epoch 31/100\n",
      "\u001b[1m400/400\u001b[0m \u001b[32m━━━━━━━━━━━━━━━━━━━━\u001b[0m\u001b[37m\u001b[0m \u001b[1m1s\u001b[0m 3ms/step - loss: 1197.3539 - val_loss: 1373.9526\n",
      "Epoch 32/100\n",
      "\u001b[1m400/400\u001b[0m \u001b[32m━━━━━━━━━━━━━━━━━━━━\u001b[0m\u001b[37m\u001b[0m \u001b[1m1s\u001b[0m 3ms/step - loss: 1120.4620 - val_loss: 1297.3246\n",
      "Epoch 33/100\n",
      "\u001b[1m400/400\u001b[0m \u001b[32m━━━━━━━━━━━━━━━━━━━━\u001b[0m\u001b[37m\u001b[0m \u001b[1m1s\u001b[0m 3ms/step - loss: 1087.5614 - val_loss: 1245.8430\n",
      "Epoch 34/100\n",
      "\u001b[1m400/400\u001b[0m \u001b[32m━━━━━━━━━━━━━━━━━━━━\u001b[0m\u001b[37m\u001b[0m \u001b[1m1s\u001b[0m 3ms/step - loss: 1030.1190 - val_loss: 1209.7319\n",
      "Epoch 35/100\n",
      "\u001b[1m400/400\u001b[0m \u001b[32m━━━━━━━━━━━━━━━━━━━━\u001b[0m\u001b[37m\u001b[0m \u001b[1m1s\u001b[0m 3ms/step - loss: 995.3070 - val_loss: 1137.7745\n",
      "Epoch 36/100\n",
      "\u001b[1m400/400\u001b[0m \u001b[32m━━━━━━━━━━━━━━━━━━━━\u001b[0m\u001b[37m\u001b[0m \u001b[1m1s\u001b[0m 3ms/step - loss: 920.9578 - val_loss: 1032.4419\n",
      "Epoch 37/100\n",
      "\u001b[1m400/400\u001b[0m \u001b[32m━━━━━━━━━━━━━━━━━━━━\u001b[0m\u001b[37m\u001b[0m \u001b[1m1s\u001b[0m 3ms/step - loss: 900.8391 - val_loss: 1117.9606\n",
      "Epoch 38/100\n",
      "\u001b[1m400/400\u001b[0m \u001b[32m━━━━━━━━━━━━━━━━━━━━\u001b[0m\u001b[37m\u001b[0m \u001b[1m1s\u001b[0m 3ms/step - loss: 907.6976 - val_loss: 1152.2792\n",
      "Epoch 39/100\n",
      "\u001b[1m400/400\u001b[0m \u001b[32m━━━━━━━━━━━━━━━━━━━━\u001b[0m\u001b[37m\u001b[0m \u001b[1m1s\u001b[0m 3ms/step - loss: 856.1536 - val_loss: 1042.0057\n",
      "Epoch 40/100\n",
      "\u001b[1m400/400\u001b[0m \u001b[32m━━━━━━━━━━━━━━━━━━━━\u001b[0m\u001b[37m\u001b[0m \u001b[1m1s\u001b[0m 3ms/step - loss: 830.3686 - val_loss: 1045.5969\n",
      "Epoch 41/100\n",
      "\u001b[1m400/400\u001b[0m \u001b[32m━━━━━━━━━━━━━━━━━━━━\u001b[0m\u001b[37m\u001b[0m \u001b[1m1s\u001b[0m 3ms/step - loss: 829.2664 - val_loss: 1009.0281\n",
      "Epoch 42/100\n",
      "\u001b[1m400/400\u001b[0m \u001b[32m━━━━━━━━━━━━━━━━━━━━\u001b[0m\u001b[37m\u001b[0m \u001b[1m1s\u001b[0m 3ms/step - loss: 801.4004 - val_loss: 934.9846\n",
      "Epoch 43/100\n",
      "\u001b[1m400/400\u001b[0m \u001b[32m━━━━━━━━━━━━━━━━━━━━\u001b[0m\u001b[37m\u001b[0m \u001b[1m1s\u001b[0m 3ms/step - loss: 785.8044 - val_loss: 1065.2672\n",
      "Epoch 44/100\n",
      "\u001b[1m400/400\u001b[0m \u001b[32m━━━━━━━━━━━━━━━━━━━━\u001b[0m\u001b[37m\u001b[0m \u001b[1m1s\u001b[0m 3ms/step - loss: 790.6874 - val_loss: 959.1984\n",
      "Epoch 45/100\n",
      "\u001b[1m400/400\u001b[0m \u001b[32m━━━━━━━━━━━━━━━━━━━━\u001b[0m\u001b[37m\u001b[0m \u001b[1m1s\u001b[0m 3ms/step - loss: 741.2968 - val_loss: 908.9590\n",
      "Epoch 46/100\n",
      "\u001b[1m400/400\u001b[0m \u001b[32m━━━━━━━━━━━━━━━━━━━━\u001b[0m\u001b[37m\u001b[0m \u001b[1m1s\u001b[0m 3ms/step - loss: 750.9279 - val_loss: 901.7757\n",
      "Epoch 47/100\n",
      "\u001b[1m400/400\u001b[0m \u001b[32m━━━━━━━━━━━━━━━━━━━━\u001b[0m\u001b[37m\u001b[0m \u001b[1m1s\u001b[0m 3ms/step - loss: 737.6384 - val_loss: 890.0120\n",
      "Epoch 48/100\n",
      "\u001b[1m400/400\u001b[0m \u001b[32m━━━━━━━━━━━━━━━━━━━━\u001b[0m\u001b[37m\u001b[0m \u001b[1m1s\u001b[0m 3ms/step - loss: 737.6831 - val_loss: 872.7048\n",
      "Epoch 49/100\n",
      "\u001b[1m400/400\u001b[0m \u001b[32m━━━━━━━━━━━━━━━━━━━━\u001b[0m\u001b[37m\u001b[0m \u001b[1m1s\u001b[0m 3ms/step - loss: 708.1563 - val_loss: 925.1127\n",
      "Epoch 50/100\n",
      "\u001b[1m400/400\u001b[0m \u001b[32m━━━━━━━━━━━━━━━━━━━━\u001b[0m\u001b[37m\u001b[0m \u001b[1m2s\u001b[0m 3ms/step - loss: 726.0336 - val_loss: 826.9280\n",
      "Epoch 51/100\n",
      "\u001b[1m400/400\u001b[0m \u001b[32m━━━━━━━━━━━━━━━━━━━━\u001b[0m\u001b[37m\u001b[0m \u001b[1m1s\u001b[0m 4ms/step - loss: 712.2302 - val_loss: 839.6445\n",
      "Epoch 52/100\n",
      "\u001b[1m400/400\u001b[0m \u001b[32m━━━━━━━━━━━━━━━━━━━━\u001b[0m\u001b[37m\u001b[0m \u001b[1m2s\u001b[0m 3ms/step - loss: 697.8790 - val_loss: 867.8420\n",
      "Epoch 53/100\n",
      "\u001b[1m400/400\u001b[0m \u001b[32m━━━━━━━━━━━━━━━━━━━━\u001b[0m\u001b[37m\u001b[0m \u001b[1m1s\u001b[0m 3ms/step - loss: 702.8567 - val_loss: 856.5513\n",
      "Epoch 54/100\n",
      "\u001b[1m400/400\u001b[0m \u001b[32m━━━━━━━━━━━━━━━━━━━━\u001b[0m\u001b[37m\u001b[0m \u001b[1m1s\u001b[0m 3ms/step - loss: 678.2868 - val_loss: 882.4401\n",
      "Epoch 55/100\n",
      "\u001b[1m400/400\u001b[0m \u001b[32m━━━━━━━━━━━━━━━━━━━━\u001b[0m\u001b[37m\u001b[0m \u001b[1m1s\u001b[0m 3ms/step - loss: 684.2523 - val_loss: 859.1978\n",
      "Epoch 56/100\n",
      "\u001b[1m400/400\u001b[0m \u001b[32m━━━━━━━━━━━━━━━━━━━━\u001b[0m\u001b[37m\u001b[0m \u001b[1m1s\u001b[0m 3ms/step - loss: 662.3823 - val_loss: 847.8137\n",
      "Epoch 57/100\n",
      "\u001b[1m400/400\u001b[0m \u001b[32m━━━━━━━━━━━━━━━━━━━━\u001b[0m\u001b[37m\u001b[0m \u001b[1m1s\u001b[0m 3ms/step - loss: 667.3143 - val_loss: 793.1061\n",
      "Epoch 58/100\n",
      "\u001b[1m400/400\u001b[0m \u001b[32m━━━━━━━━━━━━━━━━━━━━\u001b[0m\u001b[37m\u001b[0m \u001b[1m1s\u001b[0m 3ms/step - loss: 663.5879 - val_loss: 974.7992\n",
      "Epoch 59/100\n",
      "\u001b[1m400/400\u001b[0m \u001b[32m━━━━━━━━━━━━━━━━━━━━\u001b[0m\u001b[37m\u001b[0m \u001b[1m1s\u001b[0m 3ms/step - loss: 670.9606 - val_loss: 786.8970\n",
      "Epoch 60/100\n",
      "\u001b[1m400/400\u001b[0m \u001b[32m━━━━━━━━━━━━━━━━━━━━\u001b[0m\u001b[37m\u001b[0m \u001b[1m1s\u001b[0m 3ms/step - loss: 668.3157 - val_loss: 830.1989\n",
      "Epoch 61/100\n",
      "\u001b[1m400/400\u001b[0m \u001b[32m━━━━━━━━━━━━━━━━━━━━\u001b[0m\u001b[37m\u001b[0m \u001b[1m1s\u001b[0m 3ms/step - loss: 681.4840 - val_loss: 899.1046\n",
      "Epoch 62/100\n",
      "\u001b[1m400/400\u001b[0m \u001b[32m━━━━━━━━━━━━━━━━━━━━\u001b[0m\u001b[37m\u001b[0m \u001b[1m1s\u001b[0m 3ms/step - loss: 669.3091 - val_loss: 884.9899\n",
      "Epoch 63/100\n",
      "\u001b[1m400/400\u001b[0m \u001b[32m━━━━━━━━━━━━━━━━━━━━\u001b[0m\u001b[37m\u001b[0m \u001b[1m2s\u001b[0m 4ms/step - loss: 636.9774 - val_loss: 802.3371\n",
      "Epoch 64/100\n",
      "\u001b[1m400/400\u001b[0m \u001b[32m━━━━━━━━━━━━━━━━━━━━\u001b[0m\u001b[37m\u001b[0m \u001b[1m2s\u001b[0m 3ms/step - loss: 627.6680 - val_loss: 881.9512\n",
      "Epoch 65/100\n",
      "\u001b[1m400/400\u001b[0m \u001b[32m━━━━━━━━━━━━━━━━━━━━\u001b[0m\u001b[37m\u001b[0m \u001b[1m1s\u001b[0m 3ms/step - loss: 679.3257 - val_loss: 805.0433\n",
      "Epoch 66/100\n",
      "\u001b[1m400/400\u001b[0m \u001b[32m━━━━━━━━━━━━━━━━━━━━\u001b[0m\u001b[37m\u001b[0m \u001b[1m1s\u001b[0m 3ms/step - loss: 619.7008 - val_loss: 819.1846\n",
      "Epoch 67/100\n",
      "\u001b[1m400/400\u001b[0m \u001b[32m━━━━━━━━━━━━━━━━━━━━\u001b[0m\u001b[37m\u001b[0m \u001b[1m1s\u001b[0m 3ms/step - loss: 647.9537 - val_loss: 837.0305\n",
      "Epoch 68/100\n",
      "\u001b[1m400/400\u001b[0m \u001b[32m━━━━━━━━━━━━━━━━━━━━\u001b[0m\u001b[37m\u001b[0m \u001b[1m2s\u001b[0m 3ms/step - loss: 608.4419 - val_loss: 846.9735\n",
      "Epoch 69/100\n",
      "\u001b[1m400/400\u001b[0m \u001b[32m━━━━━━━━━━━━━━━━━━━━\u001b[0m\u001b[37m\u001b[0m \u001b[1m3s\u001b[0m 3ms/step - loss: 616.3487 - val_loss: 810.2111\n",
      "Epoch 70/100\n",
      "\u001b[1m400/400\u001b[0m \u001b[32m━━━━━━━━━━━━━━━━━━━━\u001b[0m\u001b[37m\u001b[0m \u001b[1m1s\u001b[0m 3ms/step - loss: 624.9873 - val_loss: 816.7597\n",
      "Epoch 71/100\n",
      "\u001b[1m400/400\u001b[0m \u001b[32m━━━━━━━━━━━━━━━━━━━━\u001b[0m\u001b[37m\u001b[0m \u001b[1m1s\u001b[0m 3ms/step - loss: 622.0988 - val_loss: 827.4991\n",
      "Epoch 72/100\n",
      "\u001b[1m400/400\u001b[0m \u001b[32m━━━━━━━━━━━━━━━━━━━━\u001b[0m\u001b[37m\u001b[0m \u001b[1m1s\u001b[0m 3ms/step - loss: 607.2953 - val_loss: 836.6735\n",
      "Epoch 73/100\n",
      "\u001b[1m400/400\u001b[0m \u001b[32m━━━━━━━━━━━━━━━━━━━━\u001b[0m\u001b[37m\u001b[0m \u001b[1m1s\u001b[0m 2ms/step - loss: 613.3820 - val_loss: 732.7109\n",
      "Epoch 74/100\n",
      "\u001b[1m400/400\u001b[0m \u001b[32m━━━━━━━━━━━━━━━━━━━━\u001b[0m\u001b[37m\u001b[0m \u001b[1m1s\u001b[0m 3ms/step - loss: 589.4016 - val_loss: 770.0007\n",
      "Epoch 75/100\n",
      "\u001b[1m400/400\u001b[0m \u001b[32m━━━━━━━━━━━━━━━━━━━━\u001b[0m\u001b[37m\u001b[0m \u001b[1m1s\u001b[0m 3ms/step - loss: 580.4487 - val_loss: 726.9303\n",
      "Epoch 76/100\n",
      "\u001b[1m400/400\u001b[0m \u001b[32m━━━━━━━━━━━━━━━━━━━━\u001b[0m\u001b[37m\u001b[0m \u001b[1m1s\u001b[0m 3ms/step - loss: 599.8372 - val_loss: 677.1857\n",
      "Epoch 77/100\n",
      "\u001b[1m400/400\u001b[0m \u001b[32m━━━━━━━━━━━━━━━━━━━━\u001b[0m\u001b[37m\u001b[0m \u001b[1m1s\u001b[0m 3ms/step - loss: 614.8007 - val_loss: 712.9526\n",
      "Epoch 78/100\n",
      "\u001b[1m400/400\u001b[0m \u001b[32m━━━━━━━━━━━━━━━━━━━━\u001b[0m\u001b[37m\u001b[0m \u001b[1m1s\u001b[0m 3ms/step - loss: 564.3793 - val_loss: 767.1495\n",
      "Epoch 79/100\n",
      "\u001b[1m400/400\u001b[0m \u001b[32m━━━━━━━━━━━━━━━━━━━━\u001b[0m\u001b[37m\u001b[0m \u001b[1m1s\u001b[0m 3ms/step - loss: 566.9849 - val_loss: 722.9099\n",
      "Epoch 80/100\n",
      "\u001b[1m400/400\u001b[0m \u001b[32m━━━━━━━━━━━━━━━━━━━━\u001b[0m\u001b[37m\u001b[0m \u001b[1m1s\u001b[0m 3ms/step - loss: 572.7766 - val_loss: 792.2742\n",
      "Epoch 81/100\n",
      "\u001b[1m400/400\u001b[0m \u001b[32m━━━━━━━━━━━━━━━━━━━━\u001b[0m\u001b[37m\u001b[0m \u001b[1m1s\u001b[0m 3ms/step - loss: 569.4270 - val_loss: 697.1577\n",
      "Epoch 82/100\n",
      "\u001b[1m400/400\u001b[0m \u001b[32m━━━━━━━━━━━━━━━━━━━━\u001b[0m\u001b[37m\u001b[0m \u001b[1m2s\u001b[0m 4ms/step - loss: 570.7827 - val_loss: 780.7703\n",
      "Epoch 83/100\n",
      "\u001b[1m400/400\u001b[0m \u001b[32m━━━━━━━━━━━━━━━━━━━━\u001b[0m\u001b[37m\u001b[0m \u001b[1m2s\u001b[0m 3ms/step - loss: 586.3592 - val_loss: 764.4610\n",
      "Epoch 84/100\n",
      "\u001b[1m400/400\u001b[0m \u001b[32m━━━━━━━━━━━━━━━━━━━━\u001b[0m\u001b[37m\u001b[0m \u001b[1m1s\u001b[0m 3ms/step - loss: 577.9919 - val_loss: 662.6021\n",
      "Epoch 85/100\n",
      "\u001b[1m400/400\u001b[0m \u001b[32m━━━━━━━━━━━━━━━━━━━━\u001b[0m\u001b[37m\u001b[0m \u001b[1m1s\u001b[0m 3ms/step - loss: 548.2834 - val_loss: 673.4528\n",
      "Epoch 86/100\n",
      "\u001b[1m400/400\u001b[0m \u001b[32m━━━━━━━━━━━━━━━━━━━━\u001b[0m\u001b[37m\u001b[0m \u001b[1m1s\u001b[0m 3ms/step - loss: 546.4390 - val_loss: 821.3779\n",
      "Epoch 87/100\n",
      "\u001b[1m400/400\u001b[0m \u001b[32m━━━━━━━━━━━━━━━━━━━━\u001b[0m\u001b[37m\u001b[0m \u001b[1m1s\u001b[0m 3ms/step - loss: 534.8224 - val_loss: 679.1055\n",
      "Epoch 88/100\n",
      "\u001b[1m400/400\u001b[0m \u001b[32m━━━━━━━━━━━━━━━━━━━━\u001b[0m\u001b[37m\u001b[0m \u001b[1m1s\u001b[0m 3ms/step - loss: 527.8423 - val_loss: 741.4767\n",
      "Epoch 89/100\n",
      "\u001b[1m400/400\u001b[0m \u001b[32m━━━━━━━━━━━━━━━━━━━━\u001b[0m\u001b[37m\u001b[0m \u001b[1m1s\u001b[0m 3ms/step - loss: 510.1716 - val_loss: 746.4025\n",
      "Epoch 90/100\n",
      "\u001b[1m400/400\u001b[0m \u001b[32m━━━━━━━━━━━━━━━━━━━━\u001b[0m\u001b[37m\u001b[0m \u001b[1m1s\u001b[0m 4ms/step - loss: 540.3463 - val_loss: 640.0385\n",
      "Epoch 91/100\n",
      "\u001b[1m400/400\u001b[0m \u001b[32m━━━━━━━━━━━━━━━━━━━━\u001b[0m\u001b[37m\u001b[0m \u001b[1m1s\u001b[0m 3ms/step - loss: 489.3998 - val_loss: 591.5490\n",
      "Epoch 92/100\n",
      "\u001b[1m400/400\u001b[0m \u001b[32m━━━━━━━━━━━━━━━━━━━━\u001b[0m\u001b[37m\u001b[0m \u001b[1m1s\u001b[0m 3ms/step - loss: 471.2871 - val_loss: 713.5451\n",
      "Epoch 93/100\n",
      "\u001b[1m400/400\u001b[0m \u001b[32m━━━━━━━━━━━━━━━━━━━━\u001b[0m\u001b[37m\u001b[0m \u001b[1m1s\u001b[0m 3ms/step - loss: 454.8422 - val_loss: 555.6801\n",
      "Epoch 94/100\n",
      "\u001b[1m400/400\u001b[0m \u001b[32m━━━━━━━━━━━━━━━━━━━━\u001b[0m\u001b[37m\u001b[0m \u001b[1m1s\u001b[0m 3ms/step - loss: 441.6363 - val_loss: 597.9517\n",
      "Epoch 95/100\n",
      "\u001b[1m400/400\u001b[0m \u001b[32m━━━━━━━━━━━━━━━━━━━━\u001b[0m\u001b[37m\u001b[0m \u001b[1m1s\u001b[0m 3ms/step - loss: 428.2498 - val_loss: 640.0499\n",
      "Epoch 96/100\n",
      "\u001b[1m400/400\u001b[0m \u001b[32m━━━━━━━━━━━━━━━━━━━━\u001b[0m\u001b[37m\u001b[0m \u001b[1m1s\u001b[0m 3ms/step - loss: 445.5008 - val_loss: 613.2502\n",
      "Epoch 97/100\n",
      "\u001b[1m400/400\u001b[0m \u001b[32m━━━━━━━━━━━━━━━━━━━━\u001b[0m\u001b[37m\u001b[0m \u001b[1m1s\u001b[0m 3ms/step - loss: 433.8761 - val_loss: 561.3904\n",
      "Epoch 98/100\n",
      "\u001b[1m400/400\u001b[0m \u001b[32m━━━━━━━━━━━━━━━━━━━━\u001b[0m\u001b[37m\u001b[0m \u001b[1m1s\u001b[0m 3ms/step - loss: 440.2784 - val_loss: 640.3065\n",
      "Epoch 99/100\n",
      "\u001b[1m400/400\u001b[0m \u001b[32m━━━━━━━━━━━━━━━━━━━━\u001b[0m\u001b[37m\u001b[0m \u001b[1m1s\u001b[0m 3ms/step - loss: 434.4370 - val_loss: 561.3763\n",
      "Epoch 100/100\n",
      "\u001b[1m400/400\u001b[0m \u001b[32m━━━━━━━━━━━━━━━━━━━━\u001b[0m\u001b[37m\u001b[0m \u001b[1m1s\u001b[0m 3ms/step - loss: 430.3711 - val_loss: 553.9231\n",
      "WARNING:tensorflow:5 out of the last 68 calls to <function TensorFlowTrainer.make_predict_function.<locals>.one_step_on_data_distributed at 0x0000027C7C555760> triggered tf.function retracing. Tracing is expensive and the excessive number of tracings could be due to (1) creating @tf.function repeatedly in a loop, (2) passing tensors with different shapes, (3) passing Python objects instead of tensors. For (1), please define your @tf.function outside of the loop. For (2), @tf.function has reduce_retracing=True option that can avoid unnecessary retracing. For (3), please refer to https://www.tensorflow.org/guide/function#controlling_retracing and https://www.tensorflow.org/api_docs/python/tf/function for  more details.\n",
      "\u001b[1m63/63\u001b[0m \u001b[32m━━━━━━━━━━━━━━━━━━━━\u001b[0m\u001b[37m\u001b[0m \u001b[1m0s\u001b[0m 3ms/step \n",
      "\n",
      "Итоговые метрики:\n",
      "MSE: 555.55\n",
      "R²: 1.00\n"
     ]
    },
    {
     "data": {
      "image/png": "[encoded data removed]",
      "text/plain": [
       "<Figure size 640x480 with 1 Axes>"
      ]
     },
     "metadata": {},
     "output_type": "display_data"
    }
   ],
   "source": [
    "mse_paris_pca, r2_paris_pca = train_model_with_pca(paris_df, target_column='price', n_components=0.9, normalize_target=True)"
   ]
  },
  {
   "cell_type": "code",
   "execution_count": 16,
   "metadata": {
    "colab": {
     "base_uri": "https://localhost:8080/",
     "height": 487
    },
    "executionInfo": {
     "elapsed": 881,
     "status": "ok",
     "timestamp": 1760963872604,
     "user": {
      "displayName": "Юлия Гор.",
      "userId": "08838257762277085118"
     },
     "user_tz": -180
    },
    "id": "LyuT5QGVnC3T",
    "outputId": "e35f5458-c522-4200-feb5-7fcc954ea79a"
   },
   "outputs": [
    {
     "data": {
      "image/png": "[encoded data removed]",
      "text/plain": [
       "<Figure size 800x500 with 1 Axes>"
      ]
     },
     "metadata": {},
     "output_type": "display_data"
    }
   ],
   "source": [
    "from sklearn.decomposition import PCA\n",
    "from sklearn.preprocessing import StandardScaler\n",
    "import matplotlib.pyplot as plt\n",
    "import numpy as np\n",
    "\n",
    "# Масштабируем признаки\n",
    "X_1 = paris_df.drop('price', axis=1)\n",
    "scaler = StandardScaler()\n",
    "X_scaled_1 = scaler.fit_transform(X_1)\n",
    "\n",
    "# Применим PCA без ограничения числа компонент\n",
    "pca = PCA()\n",
    "pca.fit(X_scaled_1)\n",
    "\n",
    "# Объяснённая дисперсия\n",
    "explained_variance = np.cumsum(pca.explained_variance_ratio_)\n",
    "\n",
    "# График\n",
    "plt.figure(figsize=(8, 5))\n",
    "plt.plot(range(1, len(explained_variance) + 1), explained_variance, marker='o', label='Накопленная дисперсия')\n",
    "plt.axhline(y=0.95, color='r', linestyle='--', label='Порог 95%')\n",
    "plt.xlabel('Количество компонент')\n",
    "plt.ylabel('Накопленная объяснённая дисперсия')\n",
    "plt.title('График локтя PCA')\n",
    "plt.legend()\n",
    "plt.grid(True)\n",
    "plt.show()"
   ]
  },
  {
   "cell_type": "code",
   "execution_count": 17,
   "metadata": {
    "colab": {
     "base_uri": "https://localhost:8080/"
    },
    "executionInfo": {
     "elapsed": 24073,
     "status": "ok",
     "timestamp": 1760973826386,
     "user": {
      "displayName": "Юлия Гор.",
      "userId": "08838257762277085118"
     },
     "user_tz": -180
    },
    "id": "ilvgrBl4yr5T",
    "outputId": "a70dd86a-997d-4322-d7d5-953ee0299028"
   },
   "outputs": [
    {
     "name": "stdout",
     "output_type": "stream",
     "text": [
      "Defaulting to user installation because normal site-packages is not writeable\n",
      "Collecting neptune\n",
      "  Downloading neptune-1.14.0-py3-none-any.whl.metadata (5.0 kB)\n",
      "Collecting optuna\n",
      "  Downloading optuna-4.5.0-py3-none-any.whl.metadata (17 kB)\n",
      "Collecting neptune-optuna\n",
      "  Downloading neptune_optuna-1.4.1-py3-none-any.whl.metadata (4.7 kB)\n",
      "Requirement already satisfied: GitPython>=2.0.8 in c:\\programdata\\anaconda3\\lib\\site-packages (from neptune) (3.1.43)\n",
      "Requirement already satisfied: Pillow>=1.1.6 in c:\\programdata\\anaconda3\\lib\\site-packages (from neptune) (11.1.0)\n",
      "Requirement already satisfied: PyJWT in c:\\programdata\\anaconda3\\lib\\site-packages (from neptune) (2.10.1)\n",
      "Collecting boto3>=1.28.0 (from neptune)\n",
      "  Downloading boto3-1.40.59-py3-none-any.whl.metadata (6.6 kB)\n",
      "Collecting bravado<12.0.0,>=11.0.0 (from neptune)\n",
      "  Downloading bravado-11.1.0-py2.py3-none-any.whl.metadata (6.0 kB)\n",
      "Requirement already satisfied: click>=7.0 in c:\\programdata\\anaconda3\\lib\\site-packages (from neptune) (8.1.8)\n",
      "Requirement already satisfied: future>=0.17.1 in c:\\programdata\\anaconda3\\lib\\site-packages (from neptune) (1.0.0)\n",
      "Collecting oauthlib>=2.1.0 (from neptune)\n",
      "  Downloading oauthlib-3.3.1-py3-none-any.whl.metadata (7.9 kB)\n",
      "Requirement already satisfied: packaging in c:\\programdata\\anaconda3\\lib\\site-packages (from neptune) (24.2)\n",
      "Requirement already satisfied: pandas in c:\\programdata\\anaconda3\\lib\\site-packages (from neptune) (2.2.3)\n",
      "Requirement already satisfied: psutil in c:\\programdata\\anaconda3\\lib\\site-packages (from neptune) (5.9.0)\n",
      "Requirement already satisfied: requests>=2.20.0 in c:\\programdata\\anaconda3\\lib\\site-packages (from neptune) (2.32.3)\n",
      "Collecting requests-oauthlib>=1.0.0 (from neptune)\n",
      "  Downloading requests_oauthlib-2.0.0-py2.py3-none-any.whl.metadata (11 kB)\n",
      "Requirement already satisfied: setuptools in c:\\programdata\\anaconda3\\lib\\site-packages (from neptune) (72.1.0)\n",
      "Requirement already satisfied: six>=1.12.0 in c:\\programdata\\anaconda3\\lib\\site-packages (from neptune) (1.17.0)\n",
      "Collecting swagger-spec-validator>=2.7.4 (from neptune)\n",
      "  Downloading swagger_spec_validator-3.0.4-py2.py3-none-any.whl.metadata (2.5 kB)\n",
      "Requirement already satisfied: typing-extensions>=3.10.0 in c:\\programdata\\anaconda3\\lib\\site-packages (from neptune) (4.12.2)\n",
      "Requirement already satisfied: urllib3 in c:\\programdata\\anaconda3\\lib\\site-packages (from neptune) (2.3.0)\n",
      "Requirement already satisfied: websocket-client!=1.0.0,>=0.35.0 in c:\\programdata\\anaconda3\\lib\\site-packages (from neptune) (1.8.0)\n",
      "Collecting bravado-core>=5.16.1 (from bravado<12.0.0,>=11.0.0->neptune)\n",
      "  Downloading bravado-core-6.1.1.tar.gz (63 kB)\n",
      "  Preparing metadata (setup.py): started\n",
      "  Preparing metadata (setup.py): finished with status 'done'\n",
      "Collecting monotonic (from bravado<12.0.0,>=11.0.0->neptune)\n",
      "  Downloading monotonic-1.6-py2.py3-none-any.whl.metadata (1.5 kB)\n",
      "Requirement already satisfied: msgpack in c:\\programdata\\anaconda3\\lib\\site-packages (from bravado<12.0.0,>=11.0.0->neptune) (1.0.3)\n",
      "Requirement already satisfied: python-dateutil in c:\\programdata\\anaconda3\\lib\\site-packages (from bravado<12.0.0,>=11.0.0->neptune) (2.9.0.post0)\n",
      "Requirement already satisfied: pyyaml in c:\\programdata\\anaconda3\\lib\\site-packages (from bravado<12.0.0,>=11.0.0->neptune) (6.0.2)\n",
      "Collecting simplejson (from bravado<12.0.0,>=11.0.0->neptune)\n",
      "  Downloading simplejson-3.20.2-cp313-cp313-win_amd64.whl.metadata (3.4 kB)\n",
      "Collecting alembic>=1.5.0 (from optuna)\n",
      "  Downloading alembic-1.17.0-py3-none-any.whl.metadata (7.2 kB)\n",
      "Collecting colorlog (from optuna)\n",
      "  Downloading colorlog-6.10.1-py3-none-any.whl.metadata (11 kB)\n",
      "Requirement already satisfied: numpy in c:\\programdata\\anaconda3\\lib\\site-packages (from optuna) (2.1.3)\n",
      "Requirement already satisfied: sqlalchemy>=1.4.2 in c:\\programdata\\anaconda3\\lib\\site-packages (from optuna) (2.0.39)\n",
      "Requirement already satisfied: tqdm in c:\\programdata\\anaconda3\\lib\\site-packages (from optuna) (4.67.1)\n",
      "Requirement already satisfied: plotly in c:\\programdata\\anaconda3\\lib\\site-packages (from neptune-optuna) (5.24.1)\n",
      "Requirement already satisfied: scikit-learn in c:\\programdata\\anaconda3\\lib\\site-packages (from neptune-optuna) (1.6.1)\n",
      "Collecting Mako (from alembic>=1.5.0->optuna)\n",
      "  Downloading mako-1.3.10-py3-none-any.whl.metadata (2.9 kB)\n",
      "Collecting botocore<1.41.0,>=1.40.59 (from boto3>=1.28.0->neptune)\n",
      "  Downloading botocore-1.40.59-py3-none-any.whl.metadata (5.7 kB)\n",
      "Requirement already satisfied: jmespath<2.0.0,>=0.7.1 in c:\\programdata\\anaconda3\\lib\\site-packages (from boto3>=1.28.0->neptune) (1.0.1)\n",
      "Collecting s3transfer<0.15.0,>=0.14.0 (from boto3>=1.28.0->neptune)\n",
      "  Downloading s3transfer-0.14.0-py3-none-any.whl.metadata (1.7 kB)\n",
      "Collecting jsonref (from bravado-core>=5.16.1->bravado<12.0.0,>=11.0.0->neptune)\n",
      "  Downloading jsonref-1.1.0-py3-none-any.whl.metadata (2.7 kB)\n",
      "Requirement already satisfied: jsonschema>=2.5.1 in c:\\programdata\\anaconda3\\lib\\site-packages (from jsonschema[format-nongpl]>=2.5.1->bravado-core>=5.16.1->bravado<12.0.0,>=11.0.0->neptune) (4.23.0)\n",
      "Requirement already satisfied: pytz in c:\\programdata\\anaconda3\\lib\\site-packages (from bravado-core>=5.16.1->bravado<12.0.0,>=11.0.0->neptune) (2024.1)\n",
      "Requirement already satisfied: colorama in c:\\programdata\\anaconda3\\lib\\site-packages (from click>=7.0->neptune) (0.4.6)\n",
      "Requirement already satisfied: gitdb<5,>=4.0.1 in c:\\programdata\\anaconda3\\lib\\site-packages (from GitPython>=2.0.8->neptune) (4.0.7)\n",
      "Requirement already satisfied: smmap<5,>=3.0.1 in c:\\programdata\\anaconda3\\lib\\site-packages (from gitdb<5,>=4.0.1->GitPython>=2.0.8->neptune) (4.0.0)\n",
      "Requirement already satisfied: attrs>=22.2.0 in c:\\programdata\\anaconda3\\lib\\site-packages (from jsonschema>=2.5.1->jsonschema[format-nongpl]>=2.5.1->bravado-core>=5.16.1->bravado<12.0.0,>=11.0.0->neptune) (24.3.0)\n",
      "Requirement already satisfied: jsonschema-specifications>=2023.03.6 in c:\\programdata\\anaconda3\\lib\\site-packages (from jsonschema>=2.5.1->jsonschema[format-nongpl]>=2.5.1->bravado-core>=5.16.1->bravado<12.0.0,>=11.0.0->neptune) (2023.7.1)\n",
      "Requirement already satisfied: referencing>=0.28.4 in c:\\programdata\\anaconda3\\lib\\site-packages (from jsonschema>=2.5.1->jsonschema[format-nongpl]>=2.5.1->bravado-core>=5.16.1->bravado<12.0.0,>=11.0.0->neptune) (0.30.2)\n",
      "Requirement already satisfied: rpds-py>=0.7.1 in c:\\programdata\\anaconda3\\lib\\site-packages (from jsonschema>=2.5.1->jsonschema[format-nongpl]>=2.5.1->bravado-core>=5.16.1->bravado<12.0.0,>=11.0.0->neptune) (0.22.3)\n",
      "Requirement already satisfied: fqdn in c:\\users\\gorod\\appdata\\roaming\\python\\python313\\site-packages (from jsonschema[format-nongpl]>=2.5.1->bravado-core>=5.16.1->bravado<12.0.0,>=11.0.0->neptune) (1.5.1)\n",
      "Requirement already satisfied: idna in c:\\programdata\\anaconda3\\lib\\site-packages (from jsonschema[format-nongpl]>=2.5.1->bravado-core>=5.16.1->bravado<12.0.0,>=11.0.0->neptune) (3.7)\n",
      "Requirement already satisfied: isoduration in c:\\users\\gorod\\appdata\\roaming\\python\\python313\\site-packages (from jsonschema[format-nongpl]>=2.5.1->bravado-core>=5.16.1->bravado<12.0.0,>=11.0.0->neptune) (20.11.0)\n",
      "Requirement already satisfied: jsonpointer>1.13 in c:\\programdata\\anaconda3\\lib\\site-packages (from jsonschema[format-nongpl]>=2.5.1->bravado-core>=5.16.1->bravado<12.0.0,>=11.0.0->neptune) (2.1)\n",
      "Requirement already satisfied: rfc3339-validator in c:\\programdata\\anaconda3\\lib\\site-packages (from jsonschema[format-nongpl]>=2.5.1->bravado-core>=5.16.1->bravado<12.0.0,>=11.0.0->neptune) (0.1.4)\n",
      "Requirement already satisfied: rfc3986-validator>0.1.0 in c:\\programdata\\anaconda3\\lib\\site-packages (from jsonschema[format-nongpl]>=2.5.1->bravado-core>=5.16.1->bravado<12.0.0,>=11.0.0->neptune) (0.1.1)\n",
      "Requirement already satisfied: uri-template in c:\\users\\gorod\\appdata\\roaming\\python\\python313\\site-packages (from jsonschema[format-nongpl]>=2.5.1->bravado-core>=5.16.1->bravado<12.0.0,>=11.0.0->neptune) (1.3.0)\n",
      "Requirement already satisfied: webcolors>=24.6.0 in c:\\users\\gorod\\appdata\\roaming\\python\\python313\\site-packages (from jsonschema[format-nongpl]>=2.5.1->bravado-core>=5.16.1->bravado<12.0.0,>=11.0.0->neptune) (24.11.1)\n",
      "Requirement already satisfied: charset-normalizer<4,>=2 in c:\\programdata\\anaconda3\\lib\\site-packages (from requests>=2.20.0->neptune) (3.3.2)\n",
      "Requirement already satisfied: certifi>=2017.4.17 in c:\\programdata\\anaconda3\\lib\\site-packages (from requests>=2.20.0->neptune) (2025.4.26)\n",
      "Requirement already satisfied: greenlet!=0.4.17 in c:\\programdata\\anaconda3\\lib\\site-packages (from sqlalchemy>=1.4.2->optuna) (3.1.1)\n",
      "Collecting importlib-resources>=1.3 (from swagger-spec-validator>=2.7.4->neptune)\n",
      "  Downloading importlib_resources-6.5.2-py3-none-any.whl.metadata (3.9 kB)\n",
      "Requirement already satisfied: arrow>=0.15.0 in c:\\programdata\\anaconda3\\lib\\site-packages (from isoduration->jsonschema[format-nongpl]>=2.5.1->bravado-core>=5.16.1->bravado<12.0.0,>=11.0.0->neptune) (1.3.0)\n",
      "Requirement already satisfied: MarkupSafe>=0.9.2 in c:\\programdata\\anaconda3\\lib\\site-packages (from Mako->alembic>=1.5.0->optuna) (3.0.2)\n",
      "Requirement already satisfied: tzdata>=2022.7 in c:\\programdata\\anaconda3\\lib\\site-packages (from pandas->neptune) (2025.2)\n",
      "Requirement already satisfied: tenacity>=6.2.0 in c:\\programdata\\anaconda3\\lib\\site-packages (from plotly->neptune-optuna) (9.0.0)\n",
      "Requirement already satisfied: scipy>=1.6.0 in c:\\programdata\\anaconda3\\lib\\site-packages (from scikit-learn->neptune-optuna) (1.15.3)\n",
      "Requirement already satisfied: joblib>=1.2.0 in c:\\programdata\\anaconda3\\lib\\site-packages (from scikit-learn->neptune-optuna) (1.4.2)\n",
      "Requirement already satisfied: threadpoolctl>=3.1.0 in c:\\programdata\\anaconda3\\lib\\site-packages (from scikit-learn->neptune-optuna) (3.5.0)\n",
      "Downloading neptune-1.14.0-py3-none-any.whl (487 kB)\n",
      "Downloading bravado-11.1.0-py2.py3-none-any.whl (37 kB)\n",
      "Downloading optuna-4.5.0-py3-none-any.whl (400 kB)\n",
      "Downloading neptune_optuna-1.4.1-py3-none-any.whl (14 kB)\n",
      "Downloading alembic-1.17.0-py3-none-any.whl (247 kB)\n",
      "Downloading boto3-1.40.59-py3-none-any.whl (139 kB)\n",
      "Downloading botocore-1.40.59-py3-none-any.whl (14.1 MB)\n",
      "   ---------------------------------------- 0.0/14.1 MB ? eta -:--:--\n",
      "   - -------------------------------------- 0.5/14.1 MB 4.0 MB/s eta 0:00:04\n",
      "   --- ------------------------------------ 1.3/14.1 MB 3.7 MB/s eta 0:00:04\n",
      "   ----- ---------------------------------- 2.1/14.1 MB 3.6 MB/s eta 0:00:04\n",
      "   -------- ------------------------------- 2.9/14.1 MB 3.5 MB/s eta 0:00:04\n",
      "   ---------- ----------------------------- 3.7/14.1 MB 3.5 MB/s eta 0:00:03\n",
      "   -------------- ------------------------- 5.0/14.1 MB 4.0 MB/s eta 0:00:03\n",
      "   ----------------- ---------------------- 6.0/14.1 MB 4.2 MB/s eta 0:00:02\n",
      "   -------------------- ------------------- 7.1/14.1 MB 4.3 MB/s eta 0:00:02\n",
      "   ---------------------- ----------------- 8.1/14.1 MB 4.3 MB/s eta 0:00:02\n",
      "   ------------------------- -------------- 9.2/14.1 MB 4.4 MB/s eta 0:00:02\n",
      "   ----------------------------- ---------- 10.5/14.1 MB 4.6 MB/s eta 0:00:01\n",
      "   ------------------------------- -------- 11.3/14.1 MB 4.5 MB/s eta 0:00:01\n",
      "   ---------------------------------- ----- 12.1/14.1 MB 4.5 MB/s eta 0:00:01\n",
      "   ------------------------------------- -- 13.1/14.1 MB 4.5 MB/s eta 0:00:01\n",
      "   ---------------------------------------  13.9/14.1 MB 4.5 MB/s eta 0:00:01\n",
      "   ---------------------------------------- 14.1/14.1 MB 4.4 MB/s eta 0:00:00\n",
      "Downloading s3transfer-0.14.0-py3-none-any.whl (85 kB)\n",
      "Downloading oauthlib-3.3.1-py3-none-any.whl (160 kB)\n",
      "Downloading requests_oauthlib-2.0.0-py2.py3-none-any.whl (24 kB)\n",
      "Downloading swagger_spec_validator-3.0.4-py2.py3-none-any.whl (28 kB)\n",
      "Downloading importlib_resources-6.5.2-py3-none-any.whl (37 kB)\n",
      "Downloading colorlog-6.10.1-py3-none-any.whl (11 kB)\n",
      "Downloading jsonref-1.1.0-py3-none-any.whl (9.4 kB)\n",
      "Downloading mako-1.3.10-py3-none-any.whl (78 kB)\n",
      "Downloading monotonic-1.6-py2.py3-none-any.whl (8.2 kB)\n",
      "Downloading simplejson-3.20.2-cp313-cp313-win_amd64.whl (75 kB)\n",
      "Building wheels for collected packages: bravado-core\n",
      "  Building wheel for bravado-core (setup.py): started\n",
      "  Building wheel for bravado-core (setup.py): finished with status 'done'\n",
      "  Created wheel for bravado-core: filename=bravado_core-6.1.1-py2.py3-none-any.whl size=67700 sha256=d5b318d9b4a55d142990d02145c3e4d20f08fc73db37b49ac4be2c9ef51e585f\n",
      "  Stored in directory: c:\\users\\gorod\\appdata\\local\\pip\\cache\\wheels\\8a\\ff\\9c\\b6ba06d3882f9cc7c9b5af5daaddc0ea912409d9f6fc65cbf4\n",
      "Successfully built bravado-core\n",
      "Installing collected packages: monotonic, simplejson, oauthlib, Mako, jsonref, importlib-resources, colorlog, requests-oauthlib, botocore, alembic, s3transfer, optuna, swagger-spec-validator, neptune-optuna, boto3, bravado-core, bravado, neptune\n",
      "\n",
      "   -- -------------------------------------  1/18 [simplejson]\n",
      "   -- -------------------------------------  1/18 [simplejson]\n",
      "   -- -------------------------------------  1/18 [simplejson]\n",
      "   -- -------------------------------------  1/18 [simplejson]\n",
      "   -- -------------------------------------  1/18 [simplejson]\n",
      "   ---- -----------------------------------  2/18 [oauthlib]\n",
      "   ---- -----------------------------------  2/18 [oauthlib]\n",
      "   ---- -----------------------------------  2/18 [oauthlib]\n",
      "   ---- -----------------------------------  2/18 [oauthlib]\n",
      "   ---- -----------------------------------  2/18 [oauthlib]\n",
      "   ---- -----------------------------------  2/18 [oauthlib]\n",
      "   ---- -----------------------------------  2/18 [oauthlib]\n",
      "   ---- -----------------------------------  2/18 [oauthlib]\n",
      "   ---- -----------------------------------  2/18 [oauthlib]\n",
      "   ------ ---------------------------------  3/18 [Mako]\n",
      "   ------ ---------------------------------  3/18 [Mako]\n",
      "   ------ ---------------------------------  3/18 [Mako]\n",
      "   ------ ---------------------------------  3/18 [Mako]\n",
      "   ------ ---------------------------------  3/18 [Mako]\n",
      "   ------ ---------------------------------  3/18 [Mako]\n",
      "   ------ ---------------------------------  3/18 [Mako]\n",
      "   ------ ---------------------------------  3/18 [Mako]\n",
      "   ----------- ----------------------------  5/18 [importlib-resources]\n",
      "   ----------- ----------------------------  5/18 [importlib-resources]\n",
      "   ----------- ----------------------------  5/18 [importlib-resources]\n",
      "   ----------- ----------------------------  5/18 [importlib-resources]\n",
      "   --------------- ------------------------  7/18 [requests-oauthlib]\n",
      "   --------------- ------------------------  7/18 [requests-oauthlib]\n",
      "   ----------------- ----------------------  8/18 [botocore]\n",
      "   ----------------- ----------------------  8/18 [botocore]\n",
      "   ----------------- ----------------------  8/18 [botocore]\n",
      "   ----------------- ----------------------  8/18 [botocore]\n",
      "   ----------------- ----------------------  8/18 [botocore]\n",
      "   ----------------- ----------------------  8/18 [botocore]\n",
      "   ----------------- ----------------------  8/18 [botocore]\n",
      "   ----------------- ----------------------  8/18 [botocore]\n",
      "   ----------------- ----------------------  8/18 [botocore]\n",
      "   ----------------- ----------------------  8/18 [botocore]\n",
      "   ----------------- ----------------------  8/18 [botocore]\n",
      "   ----------------- ----------------------  8/18 [botocore]\n",
      "   ----------------- ----------------------  8/18 [botocore]\n",
      "   ----------------- ----------------------  8/18 [botocore]\n",
      "   ----------------- ----------------------  8/18 [botocore]\n",
      "   ----------------- ----------------------  8/18 [botocore]\n",
      "   ----------------- ----------------------  8/18 [botocore]\n",
      "   ----------------- ----------------------  8/18 [botocore]\n",
      "   ----------------- ----------------------  8/18 [botocore]\n",
      "   ----------------- ----------------------  8/18 [botocore]\n",
      "   ----------------- ----------------------  8/18 [botocore]\n",
      "   ----------------- ----------------------  8/18 [botocore]\n",
      "   ----------------- ----------------------  8/18 [botocore]\n",
      "   ----------------- ----------------------  8/18 [botocore]\n",
      "   ----------------- ----------------------  8/18 [botocore]\n",
      "   ----------------- ----------------------  8/18 [botocore]\n",
      "   -------------------- -------------------  9/18 [alembic]\n",
      "   -------------------- -------------------  9/18 [alembic]\n",
      "   -------------------- -------------------  9/18 [alembic]\n",
      "   -------------------- -------------------  9/18 [alembic]\n",
      "   -------------------- -------------------  9/18 [alembic]\n",
      "   -------------------- -------------------  9/18 [alembic]\n",
      "   -------------------- -------------------  9/18 [alembic]\n",
      "   -------------------- -------------------  9/18 [alembic]\n",
      "   -------------------- -------------------  9/18 [alembic]\n",
      "   -------------------- -------------------  9/18 [alembic]\n",
      "   ---------------------- ----------------- 10/18 [s3transfer]\n",
      "   ---------------------- ----------------- 10/18 [s3transfer]\n",
      "   ------------------------ --------------- 11/18 [optuna]\n",
      "   ------------------------ --------------- 11/18 [optuna]\n",
      "   ------------------------ --------------- 11/18 [optuna]\n",
      "   ------------------------ --------------- 11/18 [optuna]\n",
      "   ------------------------ --------------- 11/18 [optuna]\n",
      "   ------------------------ --------------- 11/18 [optuna]\n",
      "   ------------------------ --------------- 11/18 [optuna]\n",
      "   ------------------------ --------------- 11/18 [optuna]\n",
      "   ------------------------ --------------- 11/18 [optuna]\n",
      "   ------------------------ --------------- 11/18 [optuna]\n",
      "   ------------------------ --------------- 11/18 [optuna]\n",
      "   ------------------------ --------------- 11/18 [optuna]\n",
      "   ------------------------ --------------- 11/18 [optuna]\n",
      "   ------------------------ --------------- 11/18 [optuna]\n",
      "   ------------------------ --------------- 11/18 [optuna]\n",
      "   ------------------------ --------------- 11/18 [optuna]\n",
      "   ------------------------ --------------- 11/18 [optuna]\n",
      "   ------------------------ --------------- 11/18 [optuna]\n",
      "   ------------------------ --------------- 11/18 [optuna]\n",
      "   ------------------------ --------------- 11/18 [optuna]\n",
      "   ------------------------ --------------- 11/18 [optuna]\n",
      "   ------------------------ --------------- 11/18 [optuna]\n",
      "   ------------------------ --------------- 11/18 [optuna]\n",
      "   ------------------------ --------------- 11/18 [optuna]\n",
      "   ------------------------ --------------- 11/18 [optuna]\n",
      "   ------------------------ --------------- 11/18 [optuna]\n",
      "   -------------------------- ------------- 12/18 [swagger-spec-validator]\n",
      "   ------------------------------- -------- 14/18 [boto3]\n",
      "   ------------------------------- -------- 14/18 [boto3]\n",
      "   ------------------------------- -------- 14/18 [boto3]\n",
      "   ------------------------------- -------- 14/18 [boto3]\n",
      "   ------------------------------- -------- 14/18 [boto3]\n",
      "   --------------------------------- ------ 15/18 [bravado-core]\n",
      "   --------------------------------- ------ 15/18 [bravado-core]\n",
      "   ----------------------------------- ---- 16/18 [bravado]\n",
      "   ----------------------------------- ---- 16/18 [bravado]\n",
      "   ------------------------------------- -- 17/18 [neptune]\n",
      "   ------------------------------------- -- 17/18 [neptune]\n",
      "   ------------------------------------- -- 17/18 [neptune]\n",
      "   ------------------------------------- -- 17/18 [neptune]\n",
      "   ------------------------------------- -- 17/18 [neptune]\n",
      "   ------------------------------------- -- 17/18 [neptune]\n",
      "   ------------------------------------- -- 17/18 [neptune]\n",
      "   ------------------------------------- -- 17/18 [neptune]\n",
      "   ------------------------------------- -- 17/18 [neptune]\n",
      "   ------------------------------------- -- 17/18 [neptune]\n",
      "   ------------------------------------- -- 17/18 [neptune]\n",
      "   ------------------------------------- -- 17/18 [neptune]\n",
      "   ------------------------------------- -- 17/18 [neptune]\n",
      "   ------------------------------------- -- 17/18 [neptune]\n",
      "   ------------------------------------- -- 17/18 [neptune]\n",
      "   ------------------------------------- -- 17/18 [neptune]\n",
      "   ------------------------------------- -- 17/18 [neptune]\n",
      "   ------------------------------------- -- 17/18 [neptune]\n",
      "   ------------------------------------- -- 17/18 [neptune]\n",
      "   ------------------------------------- -- 17/18 [neptune]\n",
      "   ------------------------------------- -- 17/18 [neptune]\n",
      "   ------------------------------------- -- 17/18 [neptune]\n",
      "   ------------------------------------- -- 17/18 [neptune]\n",
      "   ------------------------------------- -- 17/18 [neptune]\n",
      "   ------------------------------------- -- 17/18 [neptune]\n",
      "   ------------------------------------- -- 17/18 [neptune]\n",
      "   ------------------------------------- -- 17/18 [neptune]\n",
      "   ------------------------------------- -- 17/18 [neptune]\n",
      "   ------------------------------------- -- 17/18 [neptune]\n",
      "   ------------------------------------- -- 17/18 [neptune]\n",
      "   ------------------------------------- -- 17/18 [neptune]\n",
      "   ------------------------------------- -- 17/18 [neptune]\n",
      "   ------------------------------------- -- 17/18 [neptune]\n",
      "   ------------------------------------- -- 17/18 [neptune]\n",
      "   ------------------------------------- -- 17/18 [neptune]\n",
      "   ------------------------------------- -- 17/18 [neptune]\n",
      "   ------------------------------------- -- 17/18 [neptune]\n",
      "   ------------------------------------- -- 17/18 [neptune]\n",
      "   ---------------------------------------- 18/18 [neptune]\n",
      "\n",
      "Successfully installed Mako-1.3.10 alembic-1.17.0 boto3-1.40.59 botocore-1.40.59 bravado-11.1.0 bravado-core-6.1.1 colorlog-6.10.1 importlib-resources-6.5.2 jsonref-1.1.0 monotonic-1.6 neptune-1.14.0 neptune-optuna-1.4.1 oauthlib-3.3.1 optuna-4.5.0 requests-oauthlib-2.0.0 s3transfer-0.14.0 simplejson-3.20.2 swagger-spec-validator-3.0.4\n",
      "Note: you may need to restart the kernel to use updated packages.\n"
     ]
    },
    {
     "name": "stderr",
     "output_type": "stream",
     "text": [
      "  DEPRECATION: Building 'bravado-core' using the legacy setup.py bdist_wheel mechanism, which will be removed in a future version. pip 25.3 will enforce this behaviour change. A possible replacement is to use the standardized build interface by setting the `--use-pep517` option, (possibly combined with `--no-build-isolation`), or adding a `pyproject.toml` file to the source tree of 'bravado-core'. Discussion can be found at https://github.com/pypa/pip/issues/6334\n",
      "  WARNING: The script mako-render.exe is installed in 'C:\\Users\\gorod\\AppData\\Roaming\\Python\\Python313\\Scripts' which is not on PATH.\n",
      "  Consider adding this directory to PATH or, if you prefer to suppress this warning, use --no-warn-script-location.\n",
      "  WARNING: The script alembic.exe is installed in 'C:\\Users\\gorod\\AppData\\Roaming\\Python\\Python313\\Scripts' which is not on PATH.\n",
      "  Consider adding this directory to PATH or, if you prefer to suppress this warning, use --no-warn-script-location.\n",
      "  WARNING: The script optuna.exe is installed in 'C:\\Users\\gorod\\AppData\\Roaming\\Python\\Python313\\Scripts' which is not on PATH.\n",
      "  Consider adding this directory to PATH or, if you prefer to suppress this warning, use --no-warn-script-location.\n",
      "  WARNING: The script neptune.exe is installed in 'C:\\Users\\gorod\\AppData\\Roaming\\Python\\Python313\\Scripts' which is not on PATH.\n",
      "  Consider adding this directory to PATH or, if you prefer to suppress this warning, use --no-warn-script-location.\n",
      "ERROR: pip's dependency resolver does not currently take into account all the packages that are installed. This behaviour is the source of the following dependency conflicts.\n",
      "aiobotocore 2.19.0 requires botocore<1.36.4,>=1.36.0, but you have botocore 1.40.59 which is incompatible.\n"
     ]
    }
   ],
   "source": [
    "pip install neptune optuna neptune-optuna"
   ]
  },
  {
   "cell_type": "code",
   "execution_count": 5,
   "metadata": {
    "colab": {
     "base_uri": "https://localhost:8080/"
    },
    "executionInfo": {
     "elapsed": 2176353,
     "status": "ok",
     "timestamp": 1760977177923,
     "user": {
      "displayName": "Юлия Гор.",
      "userId": "08838257762277085118"
     },
     "user_tz": -180
    },
    "id": "l2RAEFbKQE_s",
    "outputId": "172bca35-7c1c-4804-b8e6-1a96b7661341"
   },
   "outputs": [
    {
     "name": "stdout",
     "output_type": "stream",
     "text": [
      "[neptune] [info   ] Neptune initialized. Open in the app: https://app.neptune.ai/yuliyagorodnaya/optuna-paris/e/OP-6\n"
     ]
    },
    {
     "name": "stderr",
     "output_type": "stream",
     "text": [
      "[I 2025-10-20 15:43:22,178] A new study created in memory with name: no-name-41e3a68e-1f7d-4986-b17e-80905d86fac2\n"
     ]
    },
    {
     "name": "stdout",
     "output_type": "stream",
     "text": [
      "\u001b[1m63/63\u001b[0m \u001b[32m━━━━━━━━━━━━━━━━━━━━\u001b[0m\u001b[37m\u001b[0m \u001b[1m0s\u001b[0m 2ms/step\n"
     ]
    },
    {
     "name": "stderr",
     "output_type": "stream",
     "text": [
      "[I 2025-10-20 15:43:49,176] Trial 0 finished with value: 3552691353.6084266 and parameters: {'n_layers': 2, 'n_units': 90, 'activation': 'relu', 'learning_rate': 0.003997282103575681, 'batch_size': 32}. Best is trial 0 with value: 3552691353.6084266.\n",
      "[W 2025-10-20 15:43:49,270] Param batch_size unique value length is less than 2.\n",
      "[W 2025-10-20 15:43:49,271] Param learning_rate unique value length is less than 2.\n",
      "[W 2025-10-20 15:43:49,272] Param n_layers unique value length is less than 2.\n",
      "[W 2025-10-20 15:43:49,273] Param n_units unique value length is less than 2.\n",
      "[W 2025-10-20 15:43:49,275] Param activation unique value length is less than 2.\n",
      "[W 2025-10-20 15:43:49,277] Param learning_rate unique value length is less than 2.\n",
      "[W 2025-10-20 15:43:49,278] Param n_layers unique value length is less than 2.\n",
      "[W 2025-10-20 15:43:49,278] Param n_units unique value length is less than 2.\n",
      "[W 2025-10-20 15:43:49,279] Param activation unique value length is less than 2.\n",
      "[W 2025-10-20 15:43:49,281] Param batch_size unique value length is less than 2.\n",
      "[W 2025-10-20 15:43:49,282] Param n_layers unique value length is less than 2.\n",
      "[W 2025-10-20 15:43:49,283] Param n_units unique value length is less than 2.\n",
      "[W 2025-10-20 15:43:49,284] Param activation unique value length is less than 2.\n",
      "[W 2025-10-20 15:43:49,284] Param batch_size unique value length is less than 2.\n",
      "[W 2025-10-20 15:43:49,285] Param learning_rate unique value length is less than 2.\n",
      "[W 2025-10-20 15:43:49,286] Param n_units unique value length is less than 2.\n",
      "[W 2025-10-20 15:43:49,287] Param activation unique value length is less than 2.\n",
      "[W 2025-10-20 15:43:49,288] Param batch_size unique value length is less than 2.\n",
      "[W 2025-10-20 15:43:49,289] Param learning_rate unique value length is less than 2.\n",
      "[W 2025-10-20 15:43:49,290] Param n_layers unique value length is less than 2.\n"
     ]
    },
    {
     "name": "stdout",
     "output_type": "stream",
     "text": [
      "\u001b[1m63/63\u001b[0m \u001b[32m━━━━━━━━━━━━━━━━━━━━\u001b[0m\u001b[37m\u001b[0m \u001b[1m0s\u001b[0m 2ms/step\n"
     ]
    },
    {
     "name": "stderr",
     "output_type": "stream",
     "text": [
      "[I 2025-10-20 15:44:37,322] Trial 1 finished with value: 34856819720584.81 and parameters: {'n_layers': 2, 'n_units': 71, 'activation': 'tanh', 'learning_rate': 0.0015559871616767705, 'batch_size': 16}. Best is trial 0 with value: 3552691353.6084266.\n",
      "[W 2025-10-20 15:44:37,333] Param n_layers unique value length is less than 2.\n",
      "[W 2025-10-20 15:44:37,334] Param n_layers unique value length is less than 2.\n",
      "[W 2025-10-20 15:44:37,336] Param n_layers unique value length is less than 2.\n",
      "[W 2025-10-20 15:44:37,337] Param n_layers unique value length is less than 2.\n",
      "[W 2025-10-20 15:44:37,340] Param n_layers unique value length is less than 2.\n",
      "[W 2025-10-20 15:44:37,341] Param n_layers unique value length is less than 2.\n",
      "[W 2025-10-20 15:44:37,343] Param n_layers unique value length is less than 2.\n",
      "[W 2025-10-20 15:44:37,344] Param n_layers unique value length is less than 2.\n"
     ]
    },
    {
     "name": "stdout",
     "output_type": "stream",
     "text": [
      "\u001b[1m63/63\u001b[0m \u001b[32m━━━━━━━━━━━━━━━━━━━━\u001b[0m\u001b[37m\u001b[0m \u001b[1m0s\u001b[0m 2ms/step\n"
     ]
    },
    {
     "name": "stderr",
     "output_type": "stream",
     "text": [
      "[I 2025-10-20 15:44:53,462] Trial 2 finished with value: 34599149870836.96 and parameters: {'n_layers': 1, 'n_units': 65, 'activation': 'relu', 'learning_rate': 0.001955797255410861, 'batch_size': 64}. Best is trial 0 with value: 3552691353.6084266.\n"
     ]
    },
    {
     "name": "stdout",
     "output_type": "stream",
     "text": [
      "\u001b[1m63/63\u001b[0m \u001b[32m━━━━━━━━━━━━━━━━━━━━\u001b[0m\u001b[37m\u001b[0m \u001b[1m0s\u001b[0m 2ms/step\n"
     ]
    },
    {
     "name": "stderr",
     "output_type": "stream",
     "text": [
      "[I 2025-10-20 15:45:46,983] Trial 3 finished with value: 22420043.57190491 and parameters: {'n_layers': 3, 'n_units': 98, 'activation': 'relu', 'learning_rate': 0.0011064549104539592, 'batch_size': 16}. Best is trial 3 with value: 22420043.57190491.\n"
     ]
    },
    {
     "name": "stdout",
     "output_type": "stream",
     "text": [
      "\u001b[1m63/63\u001b[0m \u001b[32m━━━━━━━━━━━━━━━━━━━━\u001b[0m\u001b[37m\u001b[0m \u001b[1m0s\u001b[0m 2ms/step\n"
     ]
    },
    {
     "name": "stderr",
     "output_type": "stream",
     "text": [
      "[I 2025-10-20 15:46:17,874] Trial 4 finished with value: 75701628022.34868 and parameters: {'n_layers': 3, 'n_units': 64, 'activation': 'relu', 'learning_rate': 0.0007548061028333201, 'batch_size': 32}. Best is trial 3 with value: 22420043.57190491.\n"
     ]
    },
    {
     "name": "stdout",
     "output_type": "stream",
     "text": [
      "\u001b[1m63/63\u001b[0m \u001b[32m━━━━━━━━━━━━━━━━━━━━\u001b[0m\u001b[37m\u001b[0m \u001b[1m0s\u001b[0m 2ms/step\n"
     ]
    },
    {
     "name": "stderr",
     "output_type": "stream",
     "text": [
      "[I 2025-10-20 15:46:37,105] Trial 5 finished with value: 271719814434.40213 and parameters: {'n_layers': 3, 'n_units': 97, 'activation': 'relu', 'learning_rate': 0.000379613593623854, 'batch_size': 64}. Best is trial 3 with value: 22420043.57190491.\n"
     ]
    },
    {
     "name": "stdout",
     "output_type": "stream",
     "text": [
      "[neptune] [error  ] Unexpected error occurred in Neptune background thread: Killing Neptune ping thread. Your run's status will not be updated and the run will be shown as inactive.\n"
     ]
    },
    {
     "name": "stderr",
     "output_type": "stream",
     "text": [
      "Exception in thread NeptunePing:\n",
      "Traceback (most recent call last):\n",
      "  File \"/usr/local/lib/python3.12/dist-packages/neptune/internal/backends/swagger_client_wrapper.py\", line 111, in __call__\n",
      "    return FinishedApiResponseFuture(future.response())  # wait synchronously\n",
      "                                     ^^^^^^^^^^^^^^^^^\n",
      "  File \"/usr/local/lib/python3.12/dist-packages/bravado/http_future.py\", line 200, in response\n",
      "    swagger_result = self._get_swagger_result(incoming_response)\n",
      "                     ^^^^^^^^^^^^^^^^^^^^^^^^^^^^^^^^^^^^^^^^^^^\n",
      "  File \"/usr/local/lib/python3.12/dist-packages/bravado/http_future.py\", line 124, in wrapper\n",
      "    return func(self, *args, **kwargs)\n",
      "           ^^^^^^^^^^^^^^^^^^^^^^^^^^^\n",
      "  File \"/usr/local/lib/python3.12/dist-packages/bravado/http_future.py\", line 300, in _get_swagger_result\n",
      "    unmarshal_response(\n",
      "  File \"/usr/local/lib/python3.12/dist-packages/bravado/http_future.py\", line 353, in unmarshal_response\n",
      "    raise_on_expected(incoming_response)\n",
      "  File \"/usr/local/lib/python3.12/dist-packages/bravado/http_future.py\", line 420, in raise_on_expected\n",
      "    raise make_http_exception(\n",
      "bravado.exception.HTTPNotFound: 404 Not Found\n",
      "\n",
      "The above exception was the direct cause of the following exception:\n",
      "\n",
      "Traceback (most recent call last):\n",
      "  File \"/usr/lib/python3.12/threading.py\", line 1075, in _bootstrap_inner\n",
      "    self.run()\n",
      "  File \"/usr/local/lib/python3.12/dist-packages/neptune/internal/threading/daemon.py\", line 103, in run\n",
      "    self.work()\n",
      "  File \"/usr/local/lib/python3.12/dist-packages/neptune/internal/threading/daemon.py\", line 128, in wrapper\n",
      "    result = func(self_, *args, **kwargs)\n",
      "             ^^^^^^^^^^^^^^^^^^^^^^^^^^^^\n",
      "  File \"/usr/local/lib/python3.12/dist-packages/neptune/internal/utils/ping_background_job.py\", line 72, in work\n",
      "    self._container.ping()\n",
      "  File \"/usr/local/lib/python3.12/dist-packages/neptune/metadata_containers/metadata_container.py\", line 412, in ping\n",
      "    self._backend.ping(self._id, self.container_type)\n",
      "  File \"/usr/local/lib/python3.12/dist-packages/neptune/common/backends/utils.py\", line 79, in wrapper\n",
      "    return func(*args, **kwargs)\n",
      "           ^^^^^^^^^^^^^^^^^^^^^\n",
      "  File \"/usr/local/lib/python3.12/dist-packages/neptune/internal/backends/hosted_neptune_backend.py\", line 466, in ping\n",
      "    self.leaderboard_client.api.ping(\n",
      "  File \"/usr/local/lib/python3.12/dist-packages/neptune/internal/backends/swagger_client_wrapper.py\", line 113, in __call__\n",
      "    self.handle_neptune_http_errors(e.response, exception=e)\n",
      "  File \"/usr/local/lib/python3.12/dist-packages/neptune/internal/backends/swagger_client_wrapper.py\", line 102, in handle_neptune_http_errors\n",
      "    raise error_processor(body) from exception\n",
      "neptune.management.exceptions.ObjectNotFound: Object not found. (code: 22)\n"
     ]
    },
    {
     "name": "stdout",
     "output_type": "stream",
     "text": [
      "\u001b[1m63/63\u001b[0m \u001b[32m━━━━━━━━━━━━━━━━━━━━\u001b[0m\u001b[37m\u001b[0m \u001b[1m0s\u001b[0m 2ms/step\n"
     ]
    },
    {
     "name": "stderr",
     "output_type": "stream",
     "text": [
      "[I 2025-10-20 15:46:54,030] Trial 6 finished with value: 34442828588446.832 and parameters: {'n_layers': 1, 'n_units': 82, 'activation': 'relu', 'learning_rate': 0.0022671578497777687, 'batch_size': 64}. Best is trial 3 with value: 22420043.57190491.\n"
     ]
    },
    {
     "name": "stdout",
     "output_type": "stream",
     "text": [
      "\u001b[1m63/63\u001b[0m \u001b[32m━━━━━━━━━━━━━━━━━━━━\u001b[0m\u001b[37m\u001b[0m \u001b[1m0s\u001b[0m 2ms/step\n"
     ]
    },
    {
     "name": "stderr",
     "output_type": "stream",
     "text": [
      "[I 2025-10-20 15:47:22,451] Trial 7 finished with value: 2570392616.205827 and parameters: {'n_layers': 2, 'n_units': 117, 'activation': 'relu', 'learning_rate': 0.003569306397241723, 'batch_size': 32}. Best is trial 3 with value: 22420043.57190491.\n"
     ]
    },
    {
     "name": "stdout",
     "output_type": "stream",
     "text": [
      "\u001b[1m63/63\u001b[0m \u001b[32m━━━━━━━━━━━━━━━━━━━━\u001b[0m\u001b[37m\u001b[0m \u001b[1m0s\u001b[0m 3ms/step\n"
     ]
    },
    {
     "name": "stderr",
     "output_type": "stream",
     "text": [
      "[I 2025-10-20 15:47:53,460] Trial 8 finished with value: 184149356.54582447 and parameters: {'n_layers': 3, 'n_units': 114, 'activation': 'relu', 'learning_rate': 0.0038565012427401626, 'batch_size': 32}. Best is trial 3 with value: 22420043.57190491.\n"
     ]
    },
    {
     "name": "stdout",
     "output_type": "stream",
     "text": [
      "\u001b[1m63/63\u001b[0m \u001b[32m━━━━━━━━━━━━━━━━━━━━\u001b[0m\u001b[37m\u001b[0m \u001b[1m0s\u001b[0m 2ms/step\n"
     ]
    },
    {
     "name": "stderr",
     "output_type": "stream",
     "text": [
      "[I 2025-10-20 15:48:43,531] Trial 9 finished with value: 34873447401283.56 and parameters: {'n_layers': 3, 'n_units': 71, 'activation': 'tanh', 'learning_rate': 0.0004208495088126944, 'batch_size': 16}. Best is trial 3 with value: 22420043.57190491.\n"
     ]
    },
    {
     "name": "stdout",
     "output_type": "stream",
     "text": [
      "\u001b[1m63/63\u001b[0m \u001b[32m━━━━━━━━━━━━━━━━━━━━\u001b[0m\u001b[37m\u001b[0m \u001b[1m0s\u001b[0m 2ms/step\n"
     ]
    },
    {
     "name": "stderr",
     "output_type": "stream",
     "text": [
      "[I 2025-10-20 15:49:32,351] Trial 10 finished with value: 34878858435497.55 and parameters: {'n_layers': 3, 'n_units': 34, 'activation': 'tanh', 'learning_rate': 0.00011256974595819163, 'batch_size': 16}. Best is trial 3 with value: 22420043.57190491.\n"
     ]
    },
    {
     "name": "stdout",
     "output_type": "stream",
     "text": [
      "\u001b[1m63/63\u001b[0m \u001b[32m━━━━━━━━━━━━━━━━━━━━\u001b[0m\u001b[37m\u001b[0m \u001b[1m0s\u001b[0m 2ms/step\n"
     ]
    },
    {
     "name": "stderr",
     "output_type": "stream",
     "text": [
      "[I 2025-10-20 15:50:03,927] Trial 11 finished with value: 45489911.596178874 and parameters: {'n_layers': 3, 'n_units': 125, 'activation': 'relu', 'learning_rate': 0.007189539881628208, 'batch_size': 32}. Best is trial 3 with value: 22420043.57190491.\n"
     ]
    },
    {
     "name": "stdout",
     "output_type": "stream",
     "text": [
      "\u001b[1m63/63\u001b[0m \u001b[32m━━━━━━━━━━━━━━━━━━━━\u001b[0m\u001b[37m\u001b[0m \u001b[1m0s\u001b[0m 2ms/step\n"
     ]
    },
    {
     "name": "stderr",
     "output_type": "stream",
     "text": [
      "[I 2025-10-20 15:50:59,884] Trial 12 finished with value: 25517205.51958822 and parameters: {'n_layers': 3, 'n_units': 128, 'activation': 'relu', 'learning_rate': 0.007647280380410131, 'batch_size': 16}. Best is trial 3 with value: 22420043.57190491.\n"
     ]
    },
    {
     "name": "stdout",
     "output_type": "stream",
     "text": [
      "\u001b[1m63/63\u001b[0m \u001b[32m━━━━━━━━━━━━━━━━━━━━\u001b[0m\u001b[37m\u001b[0m \u001b[1m0s\u001b[0m 2ms/step\n"
     ]
    },
    {
     "name": "stderr",
     "output_type": "stream",
     "text": [
      "[I 2025-10-20 15:51:49,665] Trial 13 finished with value: 33693362.63493845 and parameters: {'n_layers': 2, 'n_units': 103, 'activation': 'relu', 'learning_rate': 0.008817582297003421, 'batch_size': 16}. Best is trial 3 with value: 22420043.57190491.\n"
     ]
    },
    {
     "name": "stdout",
     "output_type": "stream",
     "text": [
      "\u001b[1m63/63\u001b[0m \u001b[32m━━━━━━━━━━━━━━━━━━━━\u001b[0m\u001b[37m\u001b[0m \u001b[1m0s\u001b[0m 2ms/step\n"
     ]
    },
    {
     "name": "stderr",
     "output_type": "stream",
     "text": [
      "[I 2025-10-20 15:52:45,632] Trial 14 finished with value: 34876618160329.035 and parameters: {'n_layers': 3, 'n_units': 127, 'activation': 'tanh', 'learning_rate': 0.00011324466477639564, 'batch_size': 16}. Best is trial 3 with value: 22420043.57190491.\n"
     ]
    },
    {
     "name": "stdout",
     "output_type": "stream",
     "text": [
      "\u001b[1m63/63\u001b[0m \u001b[32m━━━━━━━━━━━━━━━━━━━━\u001b[0m\u001b[37m\u001b[0m \u001b[1m0s\u001b[0m 2ms/step\n"
     ]
    },
    {
     "name": "stderr",
     "output_type": "stream",
     "text": [
      "[I 2025-10-20 15:53:33,598] Trial 15 finished with value: 31230810499.874763 and parameters: {'n_layers': 2, 'n_units': 109, 'activation': 'relu', 'learning_rate': 0.0007266814772028523, 'batch_size': 16}. Best is trial 3 with value: 22420043.57190491.\n"
     ]
    },
    {
     "name": "stdout",
     "output_type": "stream",
     "text": [
      "\u001b[1m63/63\u001b[0m \u001b[32m━━━━━━━━━━━━━━━━━━━━\u001b[0m\u001b[37m\u001b[0m \u001b[1m0s\u001b[0m 3ms/step\n"
     ]
    },
    {
     "name": "stderr",
     "output_type": "stream",
     "text": [
      "[I 2025-10-20 15:54:21,876] Trial 16 finished with value: 85346169714.5876 and parameters: {'n_layers': 3, 'n_units': 41, 'activation': 'relu', 'learning_rate': 0.00033135742686805106, 'batch_size': 16}. Best is trial 3 with value: 22420043.57190491.\n"
     ]
    },
    {
     "name": "stdout",
     "output_type": "stream",
     "text": [
      "\u001b[1m63/63\u001b[0m \u001b[32m━━━━━━━━━━━━━━━━━━━━\u001b[0m\u001b[37m\u001b[0m \u001b[1m0s\u001b[0m 2ms/step\n"
     ]
    },
    {
     "name": "stderr",
     "output_type": "stream",
     "text": [
      "[I 2025-10-20 15:55:09,035] Trial 17 finished with value: 2914568583.5232234 and parameters: {'n_layers': 2, 'n_units': 89, 'activation': 'relu', 'learning_rate': 0.0012619150918531945, 'batch_size': 16}. Best is trial 3 with value: 22420043.57190491.\n"
     ]
    },
    {
     "name": "stdout",
     "output_type": "stream",
     "text": [
      "\u001b[1m63/63\u001b[0m \u001b[32m━━━━━━━━━━━━━━━━━━━━\u001b[0m\u001b[37m\u001b[0m \u001b[1m0s\u001b[0m 2ms/step\n"
     ]
    },
    {
     "name": "stderr",
     "output_type": "stream",
     "text": [
      "[I 2025-10-20 15:55:54,537] Trial 18 finished with value: 34874637989551.22 and parameters: {'n_layers': 1, 'n_units': 102, 'activation': 'tanh', 'learning_rate': 0.00023070793764750348, 'batch_size': 16}. Best is trial 3 with value: 22420043.57190491.\n"
     ]
    },
    {
     "name": "stdout",
     "output_type": "stream",
     "text": [
      "\u001b[1m63/63\u001b[0m \u001b[32m━━━━━━━━━━━━━━━━━━━━\u001b[0m\u001b[37m\u001b[0m \u001b[1m0s\u001b[0m 2ms/step\n"
     ]
    },
    {
     "name": "stderr",
     "output_type": "stream",
     "text": [
      "[I 2025-10-20 15:56:43,294] Trial 19 finished with value: 1211892013.159901 and parameters: {'n_layers': 3, 'n_units': 52, 'activation': 'relu', 'learning_rate': 0.00575352480492657, 'batch_size': 16}. Best is trial 3 with value: 22420043.57190491.\n"
     ]
    },
    {
     "name": "stdout",
     "output_type": "stream",
     "text": [
      "\u001b[1m63/63\u001b[0m \u001b[32m━━━━━━━━━━━━━━━━━━━━\u001b[0m\u001b[37m\u001b[0m \u001b[1m0s\u001b[0m 2ms/step\n"
     ]
    },
    {
     "name": "stderr",
     "output_type": "stream",
     "text": [
      "[I 2025-10-20 15:57:00,608] Trial 20 finished with value: 188925738655.80606 and parameters: {'n_layers': 2, 'n_units': 119, 'activation': 'relu', 'learning_rate': 0.0026916684988069445, 'batch_size': 64}. Best is trial 3 with value: 22420043.57190491.\n"
     ]
    },
    {
     "name": "stdout",
     "output_type": "stream",
     "text": [
      "\u001b[1m63/63\u001b[0m \u001b[32m━━━━━━━━━━━━━━━━━━━━\u001b[0m\u001b[37m\u001b[0m \u001b[1m0s\u001b[0m 2ms/step\n"
     ]
    },
    {
     "name": "stderr",
     "output_type": "stream",
     "text": [
      "[I 2025-10-20 15:57:50,582] Trial 21 finished with value: 34664763.07862926 and parameters: {'n_layers': 2, 'n_units': 104, 'activation': 'relu', 'learning_rate': 0.009028541617357796, 'batch_size': 16}. Best is trial 3 with value: 22420043.57190491.\n"
     ]
    },
    {
     "name": "stdout",
     "output_type": "stream",
     "text": [
      "\u001b[1m63/63\u001b[0m \u001b[32m━━━━━━━━━━━━━━━━━━━━\u001b[0m\u001b[37m\u001b[0m \u001b[1m0s\u001b[0m 2ms/step\n"
     ]
    },
    {
     "name": "stderr",
     "output_type": "stream",
     "text": [
      "[I 2025-10-20 15:58:42,466] Trial 22 finished with value: 2761366302.019799 and parameters: {'n_layers': 3, 'n_units': 93, 'activation': 'relu', 'learning_rate': 0.009511546134443261, 'batch_size': 16}. Best is trial 3 with value: 22420043.57190491.\n"
     ]
    },
    {
     "name": "stdout",
     "output_type": "stream",
     "text": [
      "\u001b[1m63/63\u001b[0m \u001b[32m━━━━━━━━━━━━━━━━━━━━\u001b[0m\u001b[37m\u001b[0m \u001b[1m0s\u001b[0m 2ms/step\n"
     ]
    },
    {
     "name": "stderr",
     "output_type": "stream",
     "text": [
      "[I 2025-10-20 15:59:32,085] Trial 23 finished with value: 27319390.31002709 and parameters: {'n_layers': 2, 'n_units': 108, 'activation': 'relu', 'learning_rate': 0.007071640058753498, 'batch_size': 16}. Best is trial 3 with value: 22420043.57190491.\n"
     ]
    },
    {
     "name": "stdout",
     "output_type": "stream",
     "text": [
      "\u001b[1m63/63\u001b[0m \u001b[32m━━━━━━━━━━━━━━━━━━━━\u001b[0m\u001b[37m\u001b[0m \u001b[1m0s\u001b[0m 2ms/step\n"
     ]
    },
    {
     "name": "stderr",
     "output_type": "stream",
     "text": [
      "[I 2025-10-20 16:00:19,028] Trial 24 finished with value: 11131398475617.947 and parameters: {'n_layers': 1, 'n_units': 110, 'activation': 'relu', 'learning_rate': 0.005290264183710803, 'batch_size': 16}. Best is trial 3 with value: 22420043.57190491.\n"
     ]
    },
    {
     "name": "stdout",
     "output_type": "stream",
     "text": [
      "\u001b[1m63/63\u001b[0m \u001b[32m━━━━━━━━━━━━━━━━━━━━\u001b[0m\u001b[37m\u001b[0m \u001b[1m0s\u001b[0m 2ms/step\n"
     ]
    },
    {
     "name": "stderr",
     "output_type": "stream",
     "text": [
      "[I 2025-10-20 16:01:13,087] Trial 25 finished with value: 19344717.2319244 and parameters: {'n_layers': 3, 'n_units': 123, 'activation': 'relu', 'learning_rate': 0.0009192695017612981, 'batch_size': 16}. Best is trial 25 with value: 19344717.2319244.\n"
     ]
    },
    {
     "name": "stdout",
     "output_type": "stream",
     "text": [
      "\u001b[1m63/63\u001b[0m \u001b[32m━━━━━━━━━━━━━━━━━━━━\u001b[0m\u001b[37m\u001b[0m \u001b[1m0s\u001b[0m 2ms/step\n"
     ]
    },
    {
     "name": "stderr",
     "output_type": "stream",
     "text": [
      "[I 2025-10-20 16:02:09,273] Trial 26 finished with value: 34856819655729.2 and parameters: {'n_layers': 3, 'n_units': 122, 'activation': 'tanh', 'learning_rate': 0.0009113234747742641, 'batch_size': 16}. Best is trial 25 with value: 19344717.2319244.\n"
     ]
    },
    {
     "name": "stdout",
     "output_type": "stream",
     "text": [
      "\u001b[1m63/63\u001b[0m \u001b[32m━━━━━━━━━━━━━━━━━━━━\u001b[0m\u001b[37m\u001b[0m \u001b[1m0s\u001b[0m 2ms/step\n"
     ]
    },
    {
     "name": "stderr",
     "output_type": "stream",
     "text": [
      "[I 2025-10-20 16:03:04,119] Trial 27 finished with value: 261182505.5830653 and parameters: {'n_layers': 3, 'n_units': 125, 'activation': 'relu', 'learning_rate': 0.0005388330897847349, 'batch_size': 16}. Best is trial 25 with value: 19344717.2319244.\n"
     ]
    },
    {
     "name": "stdout",
     "output_type": "stream",
     "text": [
      "\u001b[1m63/63\u001b[0m \u001b[32m━━━━━━━━━━━━━━━━━━━━\u001b[0m\u001b[37m\u001b[0m \u001b[1m0s\u001b[0m 2ms/step\n"
     ]
    },
    {
     "name": "stderr",
     "output_type": "stream",
     "text": [
      "[I 2025-10-20 16:03:24,008] Trial 28 finished with value: 448057922662.2706 and parameters: {'n_layers': 3, 'n_units': 128, 'activation': 'relu', 'learning_rate': 0.0002232546686027516, 'batch_size': 64}. Best is trial 25 with value: 19344717.2319244.\n"
     ]
    },
    {
     "name": "stdout",
     "output_type": "stream",
     "text": [
      "\u001b[1m63/63\u001b[0m \u001b[32m━━━━━━━━━━━━━━━━━━━━\u001b[0m\u001b[37m\u001b[0m \u001b[1m0s\u001b[0m 2ms/step\n"
     ]
    },
    {
     "name": "stderr",
     "output_type": "stream",
     "text": [
      "[I 2025-10-20 16:04:14,752] Trial 29 finished with value: 24588963.0031279 and parameters: {'n_layers': 3, 'n_units': 82, 'activation': 'relu', 'learning_rate': 0.001287676751625393, 'batch_size': 16}. Best is trial 25 with value: 19344717.2319244.\n"
     ]
    },
    {
     "name": "stdout",
     "output_type": "stream",
     "text": [
      "\u001b[1m63/63\u001b[0m \u001b[32m━━━━━━━━━━━━━━━━━━━━\u001b[0m\u001b[37m\u001b[0m \u001b[1m0s\u001b[0m 2ms/step\n"
     ]
    },
    {
     "name": "stderr",
     "output_type": "stream",
     "text": [
      "[I 2025-10-20 16:04:46,631] Trial 30 finished with value: 5832088793.643271 and parameters: {'n_layers': 3, 'n_units': 84, 'activation': 'relu', 'learning_rate': 0.0012169961029798821, 'batch_size': 32}. Best is trial 25 with value: 19344717.2319244.\n"
     ]
    },
    {
     "name": "stdout",
     "output_type": "stream",
     "text": [
      "\u001b[1m63/63\u001b[0m \u001b[32m━━━━━━━━━━━━━━━━━━━━\u001b[0m\u001b[37m\u001b[0m \u001b[1m0s\u001b[0m 3ms/step\n"
     ]
    },
    {
     "name": "stderr",
     "output_type": "stream",
     "text": [
      "[I 2025-10-20 16:05:38,212] Trial 31 finished with value: 67081065.05478873 and parameters: {'n_layers': 3, 'n_units': 76, 'activation': 'relu', 'learning_rate': 0.0016061569755013905, 'batch_size': 16}. Best is trial 25 with value: 19344717.2319244.\n"
     ]
    },
    {
     "name": "stdout",
     "output_type": "stream",
     "text": [
      "\u001b[1m63/63\u001b[0m \u001b[32m━━━━━━━━━━━━━━━━━━━━\u001b[0m\u001b[37m\u001b[0m \u001b[1m0s\u001b[0m 2ms/step\n"
     ]
    },
    {
     "name": "stderr",
     "output_type": "stream",
     "text": [
      "[I 2025-10-20 16:06:31,036] Trial 32 finished with value: 335261781.06325465 and parameters: {'n_layers': 3, 'n_units': 88, 'activation': 'relu', 'learning_rate': 0.0006518195726224799, 'batch_size': 16}. Best is trial 25 with value: 19344717.2319244.\n"
     ]
    },
    {
     "name": "stdout",
     "output_type": "stream",
     "text": [
      "\u001b[1m63/63\u001b[0m \u001b[32m━━━━━━━━━━━━━━━━━━━━\u001b[0m\u001b[37m\u001b[0m \u001b[1m0s\u001b[0m 2ms/step\n"
     ]
    },
    {
     "name": "stderr",
     "output_type": "stream",
     "text": [
      "[I 2025-10-20 16:07:23,568] Trial 33 finished with value: 46860921.66920499 and parameters: {'n_layers': 3, 'n_units': 95, 'activation': 'relu', 'learning_rate': 0.0010529560237245111, 'batch_size': 16}. Best is trial 25 with value: 19344717.2319244.\n"
     ]
    },
    {
     "name": "stdout",
     "output_type": "stream",
     "text": [
      "\u001b[1m63/63\u001b[0m \u001b[32m━━━━━━━━━━━━━━━━━━━━\u001b[0m\u001b[37m\u001b[0m \u001b[1m0s\u001b[0m 2ms/step\n"
     ]
    },
    {
     "name": "stderr",
     "output_type": "stream",
     "text": [
      "[I 2025-10-20 16:08:14,980] Trial 34 finished with value: 176492799.31245577 and parameters: {'n_layers': 3, 'n_units': 58, 'activation': 'relu', 'learning_rate': 0.001679935230609974, 'batch_size': 16}. Best is trial 25 with value: 19344717.2319244.\n"
     ]
    },
    {
     "name": "stdout",
     "output_type": "stream",
     "text": [
      "\u001b[1m63/63\u001b[0m \u001b[32m━━━━━━━━━━━━━━━━━━━━\u001b[0m\u001b[37m\u001b[0m \u001b[1m0s\u001b[0m 2ms/step\n"
     ]
    },
    {
     "name": "stderr",
     "output_type": "stream",
     "text": [
      "[I 2025-10-20 16:09:08,317] Trial 35 finished with value: 68370166.39371446 and parameters: {'n_layers': 3, 'n_units': 77, 'activation': 'relu', 'learning_rate': 0.0029849821995604057, 'batch_size': 16}. Best is trial 25 with value: 19344717.2319244.\n"
     ]
    },
    {
     "name": "stdout",
     "output_type": "stream",
     "text": [
      "\u001b[1m63/63\u001b[0m \u001b[32m━━━━━━━━━━━━━━━━━━━━\u001b[0m\u001b[37m\u001b[0m \u001b[1m0s\u001b[0m 2ms/step\n"
     ]
    },
    {
     "name": "stderr",
     "output_type": "stream",
     "text": [
      "[I 2025-10-20 16:09:29,775] Trial 36 finished with value: 34866114143411.61 and parameters: {'n_layers': 3, 'n_units': 115, 'activation': 'tanh', 'learning_rate': 0.00226372236183007, 'batch_size': 64}. Best is trial 25 with value: 19344717.2319244.\n"
     ]
    },
    {
     "name": "stdout",
     "output_type": "stream",
     "text": [
      "\u001b[1m63/63\u001b[0m \u001b[32m━━━━━━━━━━━━━━━━━━━━\u001b[0m\u001b[37m\u001b[0m \u001b[1m0s\u001b[0m 2ms/step\n"
     ]
    },
    {
     "name": "stderr",
     "output_type": "stream",
     "text": [
      "[I 2025-10-20 16:10:24,004] Trial 37 finished with value: 820442017.2704633 and parameters: {'n_layers': 3, 'n_units': 98, 'activation': 'relu', 'learning_rate': 0.0005300909362718147, 'batch_size': 16}. Best is trial 25 with value: 19344717.2319244.\n"
     ]
    },
    {
     "name": "stdout",
     "output_type": "stream",
     "text": [
      "\u001b[1m63/63\u001b[0m \u001b[32m━━━━━━━━━━━━━━━━━━━━\u001b[0m\u001b[37m\u001b[0m \u001b[1m0s\u001b[0m 2ms/step\n"
     ]
    },
    {
     "name": "stderr",
     "output_type": "stream",
     "text": [
      "[I 2025-10-20 16:10:57,185] Trial 38 finished with value: 1878536073672.7236 and parameters: {'n_layers': 2, 'n_units': 70, 'activation': 'relu', 'learning_rate': 0.0009202959210324992, 'batch_size': 32}. Best is trial 25 with value: 19344717.2319244.\n"
     ]
    },
    {
     "name": "stdout",
     "output_type": "stream",
     "text": [
      "\u001b[1m63/63\u001b[0m \u001b[32m━━━━━━━━━━━━━━━━━━━━\u001b[0m\u001b[37m\u001b[0m \u001b[1m0s\u001b[0m 3ms/step\n"
     ]
    },
    {
     "name": "stderr",
     "output_type": "stream",
     "text": [
      "[I 2025-10-20 16:11:19,415] Trial 39 finished with value: 103043436165.78232 and parameters: {'n_layers': 3, 'n_units': 121, 'activation': 'relu', 'learning_rate': 0.0013488824861394486, 'batch_size': 64}. Best is trial 25 with value: 19344717.2319244.\n"
     ]
    },
    {
     "name": "stdout",
     "output_type": "stream",
     "text": [
      "\u001b[1m63/63\u001b[0m \u001b[32m━━━━━━━━━━━━━━━━━━━━\u001b[0m\u001b[37m\u001b[0m \u001b[1m0s\u001b[0m 2ms/step\n"
     ]
    },
    {
     "name": "stderr",
     "output_type": "stream",
     "text": [
      "[I 2025-10-20 16:12:16,169] Trial 40 finished with value: 36732991.56189548 and parameters: {'n_layers': 3, 'n_units': 113, 'activation': 'relu', 'learning_rate': 0.0020082292155451467, 'batch_size': 16}. Best is trial 25 with value: 19344717.2319244.\n"
     ]
    },
    {
     "name": "stdout",
     "output_type": "stream",
     "text": [
      "\u001b[1m63/63\u001b[0m \u001b[32m━━━━━━━━━━━━━━━━━━━━\u001b[0m\u001b[37m\u001b[0m \u001b[1m0s\u001b[0m 2ms/step\n"
     ]
    },
    {
     "name": "stderr",
     "output_type": "stream",
     "text": [
      "[I 2025-10-20 16:13:07,423] Trial 41 finished with value: 33918602.96744703 and parameters: {'n_layers': 2, 'n_units': 106, 'activation': 'relu', 'learning_rate': 0.004601859117689536, 'batch_size': 16}. Best is trial 25 with value: 19344717.2319244.\n"
     ]
    },
    {
     "name": "stdout",
     "output_type": "stream",
     "text": [
      "\u001b[1m63/63\u001b[0m \u001b[32m━━━━━━━━━━━━━━━━━━━━\u001b[0m\u001b[37m\u001b[0m \u001b[1m0s\u001b[0m 3ms/step\n"
     ]
    },
    {
     "name": "stderr",
     "output_type": "stream",
     "text": [
      "[I 2025-10-20 16:13:59,370] Trial 42 finished with value: 37367110.43005982 and parameters: {'n_layers': 2, 'n_units': 99, 'activation': 'relu', 'learning_rate': 0.0070008319894727, 'batch_size': 16}. Best is trial 25 with value: 19344717.2319244.\n"
     ]
    },
    {
     "name": "stdout",
     "output_type": "stream",
     "text": [
      "\u001b[1m63/63\u001b[0m \u001b[32m━━━━━━━━━━━━━━━━━━━━\u001b[0m\u001b[37m\u001b[0m \u001b[1m0s\u001b[0m 2ms/step\n"
     ]
    },
    {
     "name": "stderr",
     "output_type": "stream",
     "text": [
      "[I 2025-10-20 16:14:50,018] Trial 43 finished with value: 11321628.700967787 and parameters: {'n_layers': 2, 'n_units': 110, 'activation': 'relu', 'learning_rate': 0.002991804368951167, 'batch_size': 16}. Best is trial 43 with value: 11321628.700967787.\n"
     ]
    },
    {
     "name": "stdout",
     "output_type": "stream",
     "text": [
      "\u001b[1m63/63\u001b[0m \u001b[32m━━━━━━━━━━━━━━━━━━━━\u001b[0m\u001b[37m\u001b[0m \u001b[1m0s\u001b[0m 2ms/step\n"
     ]
    },
    {
     "name": "stderr",
     "output_type": "stream",
     "text": [
      "[I 2025-10-20 16:15:36,035] Trial 44 finished with value: 17116464791695.305 and parameters: {'n_layers': 1, 'n_units': 118, 'activation': 'relu', 'learning_rate': 0.0041620191316244885, 'batch_size': 16}. Best is trial 43 with value: 11321628.700967787.\n"
     ]
    },
    {
     "name": "stdout",
     "output_type": "stream",
     "text": [
      "\u001b[1m63/63\u001b[0m \u001b[32m━━━━━━━━━━━━━━━━━━━━\u001b[0m\u001b[37m\u001b[0m \u001b[1m0s\u001b[0m 2ms/step\n"
     ]
    },
    {
     "name": "stderr",
     "output_type": "stream",
     "text": [
      "[I 2025-10-20 16:16:03,502] Trial 45 finished with value: 34843260418373.406 and parameters: {'n_layers': 1, 'n_units': 114, 'activation': 'tanh', 'learning_rate': 0.003025379270860433, 'batch_size': 32}. Best is trial 43 with value: 11321628.700967787.\n"
     ]
    },
    {
     "name": "stdout",
     "output_type": "stream",
     "text": [
      "\u001b[1m63/63\u001b[0m \u001b[32m━━━━━━━━━━━━━━━━━━━━\u001b[0m\u001b[37m\u001b[0m \u001b[1m0s\u001b[0m 2ms/step\n"
     ]
    },
    {
     "name": "stderr",
     "output_type": "stream",
     "text": [
      "[I 2025-10-20 16:16:56,916] Trial 46 finished with value: 26806295.085346743 and parameters: {'n_layers': 3, 'n_units': 111, 'activation': 'relu', 'learning_rate': 0.0008052434404618777, 'batch_size': 16}. Best is trial 43 with value: 11321628.700967787.\n"
     ]
    },
    {
     "name": "stdout",
     "output_type": "stream",
     "text": [
      "\u001b[1m63/63\u001b[0m \u001b[32m━━━━━━━━━━━━━━━━━━━━\u001b[0m\u001b[37m\u001b[0m \u001b[1m0s\u001b[0m 2ms/step\n"
     ]
    },
    {
     "name": "stderr",
     "output_type": "stream",
     "text": [
      "[I 2025-10-20 16:17:51,379] Trial 47 finished with value: 96669427.50761868 and parameters: {'n_layers': 3, 'n_units': 123, 'activation': 'relu', 'learning_rate': 0.0017407216214045552, 'batch_size': 16}. Best is trial 43 with value: 11321628.700967787.\n"
     ]
    },
    {
     "name": "stdout",
     "output_type": "stream",
     "text": [
      "\u001b[1m63/63\u001b[0m \u001b[32m━━━━━━━━━━━━━━━━━━━━\u001b[0m\u001b[37m\u001b[0m \u001b[1m0s\u001b[0m 2ms/step\n"
     ]
    },
    {
     "name": "stderr",
     "output_type": "stream",
     "text": [
      "[I 2025-10-20 16:18:43,163] Trial 48 finished with value: 30953958.428337008 and parameters: {'n_layers': 3, 'n_units': 83, 'activation': 'relu', 'learning_rate': 0.0011185398038971914, 'batch_size': 16}. Best is trial 43 with value: 11321628.700967787.\n"
     ]
    },
    {
     "name": "stdout",
     "output_type": "stream",
     "text": [
      "\u001b[1m63/63\u001b[0m \u001b[32m━━━━━━━━━━━━━━━━━━━━\u001b[0m\u001b[37m\u001b[0m \u001b[1m0s\u001b[0m 2ms/step\n"
     ]
    },
    {
     "name": "stderr",
     "output_type": "stream",
     "text": [
      "[I 2025-10-20 16:19:34,226] Trial 49 finished with value: 34794512990057.625 and parameters: {'n_layers': 2, 'n_units': 118, 'activation': 'tanh', 'learning_rate': 0.0035281148095637257, 'batch_size': 16}. Best is trial 43 with value: 11321628.700967787.\n"
     ]
    },
    {
     "name": "stdout",
     "output_type": "stream",
     "text": [
      "[neptune] [info   ] Shutting down background jobs, please wait a moment...\n",
      "[neptune] [info   ] Done!\n",
      "[neptune] [info   ] Waiting for the remaining 164 operations to synchronize with Neptune. Do not kill this process.\n",
      "[neptune] [info   ] All 164 operations synced, thanks for waiting!\n",
      "[neptune] [info   ] Explore the metadata in the Neptune app: https://app.neptune.ai/yuliyagorodnaya/optuna-paris/e/OP-6/metadata\n"
     ]
    }
   ],
   "source": [
    "import optuna\n",
    "import numpy as np\n",
    "import pandas as pd\n",
    "from sklearn.model_selection import train_test_split\n",
    "from sklearn.preprocessing import StandardScaler\n",
    "from sklearn.decomposition import PCA\n",
    "from sklearn.metrics import mean_squared_error, r2_score\n",
    "from tensorflow.keras.models import Sequential\n",
    "from tensorflow.keras.layers import Dense, Input\n",
    "from tensorflow.keras.optimizers import Adam\n",
    "import neptune\n",
    "from neptune.integrations.optuna import NeptuneCallback\n",
    "\n",
    "# Инициализация Neptune\n",
    "run = neptune.init_run(\n",
    "    project=\"yuliyagorodnaya/optuna-paris\",\n",
    "    api_token=\"eyJhcGlfYWRkcmVzcyI6Imh0dHBzOi8vYXBwLm5lcHR1bmUuYWkiLCJhcGlfdXJsIjoiaHR0cHM6Ly9hcHAubmVwdHVuZS5haSIsImFwaV9rZXkiOiIyOWEyOTljMy04YzJmLTQzMDYtOTZkZS02MjYwNGQ3YWZiYWMifQ==\",\n",
    "    name=\"Optuna Paris NN\"\n",
    ")\n",
    "\n",
    "# Callback для Optuna\n",
    "neptune_callback = NeptuneCallback(run)\n",
    "\n",
    "# Целевая функция для Optuna\n",
    "def objective(trial):\n",
    "    # Гиперпараметры\n",
    "    n_components = 0.95\n",
    "    n_layers = trial.suggest_int(\"n_layers\", 1, 3)\n",
    "    n_units = trial.suggest_int(\"n_units\", 32, 128)\n",
    "    activation = trial.suggest_categorical(\"activation\", [\"relu\", \"tanh\"])\n",
    "    learning_rate = trial.suggest_float(\"learning_rate\", 1e-4, 1e-2, log=True)\n",
    "    batch_size = trial.suggest_categorical(\"batch_size\", [16, 32, 64])\n",
    "    epochs = 50\n",
    "\n",
    "    # Логгируем параметры\n",
    "    run[f\"params/n_layers\"] = n_layers\n",
    "    run[f\"params/n_units\"] = n_units\n",
    "    run[f\"params/activation\"] = activation\n",
    "    run[f\"params/learning_rate\"] = learning_rate\n",
    "    run[f\"params/batch_size\"] = batch_size\n",
    "    run[f\"optuna/trial_number\"] = trial.number\n",
    "\n",
    "    # Предобработка данных\n",
    "    df = paris_df.dropna()\n",
    "    X = df.drop(\"price\", axis=1)\n",
    "    y = df[\"price\"]\n",
    "\n",
    "    scaler = StandardScaler()\n",
    "    X_scaled = scaler.fit_transform(X)\n",
    "\n",
    "    pca_temp = PCA()\n",
    "    pca_temp.fit(X_scaled)\n",
    "    explained = np.cumsum(pca_temp.explained_variance_ratio_)\n",
    "    n_components_int = np.argmax(explained >= n_components) + 1\n",
    "    run[\"pca/n_components\"] = n_components_int\n",
    "\n",
    "    pca = PCA(n_components=n_components_int)\n",
    "    X_pca = pca.fit_transform(X_scaled)\n",
    "\n",
    "    X_train, X_test, y_train, y_test = train_test_split(X_pca, y, test_size=0.2, random_state=42)\n",
    "\n",
    "    # Модель\n",
    "    model = Sequential()\n",
    "    model.add(Input(shape=(n_components_int,)))\n",
    "    for _ in range(n_layers):\n",
    "        model.add(Dense(n_units, activation=activation))\n",
    "    model.add(Dense(1))\n",
    "\n",
    "    optimizer = Adam(learning_rate=learning_rate)\n",
    "    model.compile(optimizer=optimizer, loss='mse')\n",
    "\n",
    "    history = model.fit(X_train, y_train, epochs=epochs, batch_size=batch_size, validation_split=0.2, verbose=0)\n",
    "\n",
    "    # Логгируем потери по эпохам\n",
    "    for epoch in range(epochs):\n",
    "        run[f\"training/loss/epoch_{epoch}\"] = history.history[\"loss\"][epoch]\n",
    "        run[f\"training/val_loss/epoch_{epoch}\"] = history.history[\"val_loss\"][epoch]\n",
    "\n",
    "    # Оценка\n",
    "    y_pred = model.predict(X_test)\n",
    "    mse = mean_squared_error(y_test, y_pred)\n",
    "    r2 = r2_score(y_test, y_pred)\n",
    "\n",
    "    run[\"metrics/mse\"] = mse\n",
    "    run[\"metrics/r2\"] = r2\n",
    "\n",
    "    return mse\n",
    "\n",
    "# Запуск Optuna\n",
    "study = optuna.create_study(direction=\"minimize\")\n",
    "study.optimize(objective, n_trials=50, callbacks=[neptune_callback])\n",
    "\n",
    "# Логгируем лучший результат\n",
    "run[\"optuna/best_value\"] = study.best_value\n",
    "run[\"optuna/best_params\"] = study.best_trial.params\n",
    "\n",
    "# Завершаем логгирование\n",
    "run.stop()\n"
   ]
  }
 ],
 "metadata": {
  "colab": {
   "authorship_tag": "ABX9TyP52pqcMoqNix0RLClzjM+6",
   "provenance": []
  },
  "kernelspec": {
   "display_name": "Python 3 (ipykernel)",
   "language": "python",
   "name": "python3"
  },
  "language_info": {
   "codemirror_mode": {
    "name": "ipython",
    "version": 3
   },
   "file_extension": ".py",
   "mimetype": "text/x-python",
   "name": "python",
   "nbconvert_exporter": "python",
   "pygments_lexer": "ipython3",
   "version": "3.13.5"
  }
 },
 "nbformat": 4,
 "nbformat_minor": 4
}
